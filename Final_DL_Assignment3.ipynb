{
  "cells": [
    {
      "cell_type": "markdown",
      "source": [
        "###Import all Library"
      ],
      "metadata": {
        "id": "v6EHwpMaZrWf"
      }
    },
    {
      "cell_type": "code",
      "execution_count": 48,
      "metadata": {
        "id": "u0qCvgqBxzLo",
        "colab": {
          "base_uri": "https://localhost:8080/"
        },
        "outputId": "5a8a3427-c9e1-474b-e23e-81c31ab03f1c"
      },
      "outputs": [
        {
          "output_type": "stream",
          "name": "stdout",
          "text": [
            "Requirement already satisfied: wandb in /usr/local/lib/python3.7/dist-packages (0.12.16)\n",
            "Requirement already satisfied: PyYAML in /usr/local/lib/python3.7/dist-packages (from wandb) (3.13)\n",
            "Requirement already satisfied: Click!=8.0.0,>=7.0 in /usr/local/lib/python3.7/dist-packages (from wandb) (7.1.2)\n",
            "Requirement already satisfied: six>=1.13.0 in /usr/local/lib/python3.7/dist-packages (from wandb) (1.15.0)\n",
            "Requirement already satisfied: promise<3,>=2.0 in /usr/local/lib/python3.7/dist-packages (from wandb) (2.3)\n",
            "Requirement already satisfied: sentry-sdk>=1.0.0 in /usr/local/lib/python3.7/dist-packages (from wandb) (1.5.11)\n",
            "Requirement already satisfied: python-dateutil>=2.6.1 in /usr/local/lib/python3.7/dist-packages (from wandb) (2.8.2)\n",
            "Requirement already satisfied: psutil>=5.0.0 in /usr/local/lib/python3.7/dist-packages (from wandb) (5.4.8)\n",
            "Requirement already satisfied: docker-pycreds>=0.4.0 in /usr/local/lib/python3.7/dist-packages (from wandb) (0.4.0)\n",
            "Requirement already satisfied: protobuf>=3.12.0 in /usr/local/lib/python3.7/dist-packages (from wandb) (3.17.3)\n",
            "Requirement already satisfied: pathtools in /usr/local/lib/python3.7/dist-packages (from wandb) (0.1.2)\n",
            "Requirement already satisfied: shortuuid>=0.5.0 in /usr/local/lib/python3.7/dist-packages (from wandb) (1.0.9)\n",
            "Requirement already satisfied: GitPython>=1.0.0 in /usr/local/lib/python3.7/dist-packages (from wandb) (3.1.27)\n",
            "Requirement already satisfied: setproctitle in /usr/local/lib/python3.7/dist-packages (from wandb) (1.2.3)\n",
            "Requirement already satisfied: requests<3,>=2.0.0 in /usr/local/lib/python3.7/dist-packages (from wandb) (2.23.0)\n",
            "Requirement already satisfied: setuptools in /usr/local/lib/python3.7/dist-packages (from wandb) (57.4.0)\n",
            "Requirement already satisfied: typing-extensions>=3.7.4.3 in /usr/local/lib/python3.7/dist-packages (from GitPython>=1.0.0->wandb) (4.2.0)\n",
            "Requirement already satisfied: gitdb<5,>=4.0.1 in /usr/local/lib/python3.7/dist-packages (from GitPython>=1.0.0->wandb) (4.0.9)\n",
            "Requirement already satisfied: smmap<6,>=3.0.1 in /usr/local/lib/python3.7/dist-packages (from gitdb<5,>=4.0.1->GitPython>=1.0.0->wandb) (5.0.0)\n",
            "Requirement already satisfied: urllib3!=1.25.0,!=1.25.1,<1.26,>=1.21.1 in /usr/local/lib/python3.7/dist-packages (from requests<3,>=2.0.0->wandb) (1.24.3)\n",
            "Requirement already satisfied: certifi>=2017.4.17 in /usr/local/lib/python3.7/dist-packages (from requests<3,>=2.0.0->wandb) (2021.10.8)\n",
            "Requirement already satisfied: chardet<4,>=3.0.2 in /usr/local/lib/python3.7/dist-packages (from requests<3,>=2.0.0->wandb) (3.0.4)\n",
            "Requirement already satisfied: idna<3,>=2.5 in /usr/local/lib/python3.7/dist-packages (from requests<3,>=2.0.0->wandb) (2.10)\n",
            "Requirement already satisfied: wordcloud in /usr/local/lib/python3.7/dist-packages (1.5.0)\n",
            "Requirement already satisfied: pillow in /usr/local/lib/python3.7/dist-packages (from wordcloud) (7.1.2)\n",
            "Requirement already satisfied: numpy>=1.6.1 in /usr/local/lib/python3.7/dist-packages (from wordcloud) (1.21.6)\n",
            "Requirement already satisfied: colour in /usr/local/lib/python3.7/dist-packages (0.1.5)\n",
            "Reading package lists... Done\n",
            "Building dependency tree       \n",
            "Reading state information... Done\n",
            "fonts-lohit-deva is already the newest version (2.95.4-2).\n",
            "The following packages were automatically installed and are no longer required:\n",
            "  libnvidia-common-460 nsight-compute-2020.2.0\n",
            "Use 'apt autoremove' to remove them.\n",
            "0 upgraded, 0 newly installed, 0 to remove and 42 not upgraded.\n",
            "Lohit Devanagari\n"
          ]
        }
      ],
      "source": [
        "!pip install wandb\n",
        "!pip install wordcloud\n",
        "!pip install colour\n",
        "## Installing font for Hindi for matplotlib ##\n",
        "!apt-get install -y fonts-lohit-deva\n",
        "!fc-list :lang=hi family\n",
        "import os\n",
        "import random\n",
        "import time\n",
        "import wandb\n",
        "import re, string\n",
        "import numpy as np\n",
        "import pandas as pd \n",
        "import matplotlib as mpl\n",
        "from collections import Counter\n",
        "import matplotlib.pyplot as plt\n",
        "from wordcloud import WordCloud, STOPWORDS\n",
        "from colour import Color\n",
        "from nltk.translate.bleu_score import sentence_bleu, SmoothingFunction\n",
        "from matplotlib.font_manager import FontProperties\n",
        "import tensorflow as tf\n",
        "import tensorflow.keras.backend as K\n",
        "from tensorflow.keras.preprocessing.text import Tokenizer\n",
        "from tensorflow.keras import layers"
      ]
    },
    {
      "cell_type": "code",
      "execution_count": 49,
      "metadata": {
        "colab": {
          "base_uri": "https://localhost:8080/"
        },
        "id": "NVMyzAmMzE1a",
        "outputId": "a5ecac17-374b-4c38-e789-923766b7e08e"
      },
      "outputs": [
        {
          "output_type": "stream",
          "name": "stdout",
          "text": [
            "Drive already mounted at /content/drive; to attempt to forcibly remount, call drive.mount(\"/content/drive\", force_remount=True).\n"
          ]
        }
      ],
      "source": [
        "from google.colab import drive\n",
        "drive.mount('/content/drive')"
      ]
    },
    {
      "cell_type": "markdown",
      "metadata": {
        "id": "dlbXxZXZjpEq"
      },
      "source": [
        "# Data Preprocessing"
      ]
    },
    {
      "cell_type": "code",
      "execution_count": 77,
      "metadata": {
        "id": "fC_zHEatTLsT"
      },
      "outputs": [],
      "source": [
        "########################### CREATING DATASET ###################################\n",
        "def creating_data(language,path = \"/content/drive/MyDrive/dakshina_dataset_v1.0/{}/lexicons/{}.translit.sampled.{}.tsv\"):\n",
        "    #returning train tsv, val tsv, test tsv\n",
        "    return path.format(language, language, \"train\"), path.format(language, language, \"dev\"), path.format(language, language, \"test\")\n",
        "## functions for preprocessing data ##\n",
        "\n",
        "def add_start_end_tokens(df, cols, sos=\"\\t\", eos=\"\\n\"):\n",
        "    def add_tokens(s):  \n",
        "        # \\t = starting token\n",
        "        # \\n = ending token\n",
        "        return sos + str(s) + eos\n",
        "\n",
        "    for col in cols:\n",
        "        df[col] = df[col].apply(add_tokens) \n",
        "    \n",
        "def tokenize(lang, tokenizer=None):\n",
        "    if tokenizer is None:\n",
        "        tokenizer = Tokenizer(char_level=True)\n",
        "        tokenizer.fit_on_texts(lang)\n",
        "\n",
        "        lang_tensor = tokenizer.texts_to_sequences(lang)\n",
        "        lang_tensor = tf.keras.preprocessing.sequence.pad_sequences(lang_tensor,padding='post')                                                           \n",
        "    else: \n",
        "        lang_tensor = tokenizer.texts_to_sequences(lang)\n",
        "        lang_tensor = tf.keras.preprocessing.sequence.pad_sequences(lang_tensor,padding='post')                                                         \n",
        "    return lang_tensor, tokenizer\n",
        "\n",
        "def preprocess_data(fpath, input_lang_tokenizer=None, targ_lang_tokenizer=None):   \n",
        "    df = pd.read_csv(fpath, sep=\"\\t\", header=None)\n",
        "    add_start_end_tokens(df, [0,1])# adding start and end tokens to know when to stop predicting   \n",
        "    input_lang_tensor, input_tokenizer = tokenize(df[1].astype(str).tolist(),tokenizer=input_lang_tokenizer)                                                 \n",
        "    targ_lang_tensor, targ_tokenizer = tokenize(df[0].astype(str).tolist(),tokenizer=targ_lang_tokenizer)                                                   \n",
        "    dataset = tf.data.Dataset.from_tensor_slices((input_lang_tensor, targ_lang_tensor))\n",
        "    dataset = dataset.shuffle(len(dataset)) \n",
        "    return dataset, input_tokenizer, targ_tokenizer"
      ]
    },
    {
      "cell_type": "markdown",
      "metadata": {
        "id": "UjGJ1sFE-eon"
      },
      "source": [
        "# Model Building"
      ]
    },
    {
      "cell_type": "code",
      "source": [
        "#########################  LAYER TYPE ##########################################\n",
        "def model_layer_type(name, units, dropout, return_state=False, return_sequences=False):\n",
        "    temp = layers.GRU(units=units, dropout=dropout, return_state=return_state, return_sequences=return_sequences)    \n",
        "    if name==\"rnn\":\n",
        "      temp = layers.SimpleRNN(units=units, dropout=dropout, return_state=return_state, return_sequences=return_sequences)\n",
        "    elif name == 'lstm':\n",
        "      temp = layers.LSTM(units=units, dropout=dropout, return_state=return_state, return_sequences=return_sequences)\n",
        "    return temp"
      ],
      "metadata": {
        "id": "k07mc-C3ijaG"
      },
      "execution_count": 78,
      "outputs": []
    },
    {
      "cell_type": "markdown",
      "source": [
        "###Encoder Class"
      ],
      "metadata": {
        "id": "xWOEzCz2X6YK"
      }
    },
    {
      "cell_type": "code",
      "source": [
        "def create_layer_for_Enc(no_of_layer, layer_type, units, dropout):\n",
        "  temp = []\n",
        "  for i in range(no_of_layer):\n",
        "    ly = model_layer_type(layer_type, units, dropout, return_state=True, return_sequences=True)\n",
        "    temp.append(ly)\n",
        "  return temp\n",
        "\n",
        "class Encoder(tf.keras.Model):\n",
        "    def __init__(self, layer_type, n_layers, units, encoder_vocab_size, embedding_dim, dropout):\n",
        "        super(Encoder, self).__init__()\n",
        "        self.embedding = tf.keras.layers.Embedding(encoder_vocab_size, embedding_dim)\n",
        "        self.dropout = dropout\n",
        "        self.n_layers = n_layers\n",
        "        self.units = units\n",
        "        self.layer_type = layer_type\n",
        "        self.rnn_layers = create_layer_for_Enc(self.n_layers, self.layer_type, self.units, self.dropout)\n",
        "        \n",
        "    def call(self, x, hidden):\n",
        "      pass\n",
        "        \n",
        "    def Enc_out_state(self, x, hidden):\n",
        "        x = self.embedding(x)\n",
        "        x = self.rnn_layers[0](x, initial_state=hidden)\n",
        "        temp = self.rnn_layers[1:]\n",
        "        for layer in temp:\n",
        "            x = layer(x)\n",
        "        return x[0], x[1:]\n",
        "\n",
        "    def initialize_hidden_state(self, batch_size):\n",
        "        if self.layer_type != \"lstm\":\n",
        "            return [tf.zeros((batch_size, self.units))]\n",
        "        else:\n",
        "            return [tf.zeros((batch_size, self.units))]*2"
      ],
      "metadata": {
        "id": "JrBvWJgHdDJt"
      },
      "execution_count": 79,
      "outputs": []
    },
    {
      "cell_type": "markdown",
      "source": [
        "###Decoder Class"
      ],
      "metadata": {
        "id": "zoaL4YznYC__"
      }
    },
    {
      "cell_type": "code",
      "source": [
        "#create_layer_for_De\n",
        "def create_layer_for_Dec(no_of_layer, layer_type, units, dropout):\n",
        "  temp = [] \n",
        "  for i in range(no_of_layer):            \n",
        "    if i == no_of_layer-1:\n",
        "      ly = model_layer_type(layer_type, units, dropout,return_sequences=False,return_state=True)\n",
        "    else:\n",
        "      ly = model_layer_type(layer_type, units, dropout,return_sequences=True,return_state=True)\n",
        "    temp.append(ly)\n",
        "  return temp\n",
        "\n",
        "class Decoder(tf.keras.Model):\n",
        "    def __init__(self, type_of_layer, Total_layers, units,vocab_size, embed_dim, dropout, attention=False):\n",
        "        super(Decoder, self).__init__()\n",
        "        self.dense = layers.Dense(vocab_size, activation=\"softmax\") \n",
        "        self.n_layers = Total_layers\n",
        "        self.units = units\n",
        "        self.layer_type = type_of_layer\n",
        "        self.dropout = dropout\n",
        "        self.flatten = layers.Flatten() \n",
        "        self.rnn_layers = create_layer_for_Dec(self.n_layers, self.layer_type, self.units, self.dropout)\n",
        "        self.embed_layer = layers.Embedding(input_dim=vocab_size,output_dim=embed_dim)           \n",
        "        self.attention = attention\n",
        "        if self.attention:\n",
        "            self.attention_layer = BahdanauAttention(self.units)\n",
        "\n",
        "    def call(self, x, hidden, enc_out=None):\n",
        "        pass\n",
        "    def Dec_pred_state(self, x, hidden, enc_out=None):        \n",
        "        x = self.embed_layer(x)\n",
        "        if self.attention:\n",
        "            context_vector, attention_weights = self.attention_layer(hidden,enc_out)\n",
        "            x = tf.concat([tf.expand_dims(context_vector, 1), x], -1)\n",
        "        else:\n",
        "            attention_weights = None\n",
        "        x = self.rnn_layers[0](x, initial_state=hidden)\n",
        "        temp = self.rnn_layers[1:]\n",
        "        for layer in temp:\n",
        "            x = layer(x)\n",
        "        return self.dense(self.flatten(x[0])), x[1:], attention_weights\n",
        "\n",
        "    \n",
        "                                            "
      ],
      "metadata": {
        "id": "CeXivCpMdHYz"
      },
      "execution_count": 80,
      "outputs": []
    },
    {
      "cell_type": "markdown",
      "source": [
        "###BahdanauAttention"
      ],
      "metadata": {
        "id": "iSF9K9XuYGcZ"
      }
    },
    {
      "cell_type": "code",
      "source": [
        "class BahdanauAttention(tf.keras.layers.Layer):\n",
        "  def __init__(self, units):\n",
        "    super(BahdanauAttention, self).__init__()\n",
        "    self.W1 = tf.keras.layers.Dense(units)\n",
        "    self.W2 = tf.keras.layers.Dense(units)\n",
        "    self.V = tf.keras.layers.Dense(1)\n",
        "  def call(self, enc_state, enc_out): \n",
        "    enc_state = tf.concat(enc_state, 1)\n",
        "    enc_state = tf.expand_dims(enc_state, 1)\n",
        "    score = self.V(tf.nn.tanh(self.W1(enc_state) + self.W2(enc_out)))\n",
        "    attention_weights = tf.nn.softmax(score, axis=1)\n",
        "    context_vector = attention_weights * enc_out\n",
        "    context_vector = tf.reduce_sum(context_vector, axis=1)\n",
        "    return context_vector, attention_weights\n",
        "                                  "
      ],
      "metadata": {
        "id": "VsJ2HMmudJle"
      },
      "execution_count": 81,
      "outputs": []
    },
    {
      "cell_type": "markdown",
      "source": [
        "###BeamSearch"
      ],
      "metadata": {
        "id": "ZAZN-OH7YKPP"
      }
    },
    {
      "cell_type": "code",
      "execution_count": 82,
      "metadata": {
        "id": "Lks31eDH0KKc"
      },
      "outputs": [],
      "source": [
        "class BeamSearch():\n",
        "    def __init__(self, model, k):\n",
        "        self.k = k \n",
        "        self.model = model\n",
        "        self.acc = tf.keras.metrics.Accuracy()\n",
        "    def sample_beam_search(self, probs):\n",
        "        m, n = probs.shape\n",
        "        output_sequences = [[[], 0.0]]\n",
        "        for row in probs:\n",
        "            beams = []\n",
        "            for tup in output_sequences:\n",
        "                seq, score = tup\n",
        "                for j in range(n):\n",
        "                    new_beam = [seq + [j], score - tf.math.log(row[j])]\n",
        "                    beams.append(new_beam)\n",
        "            output_sequences = sorted(beams, key=lambda x: x[1])[:self.k]\n",
        "        tensors, scores = list(zip(*output_sequences))\n",
        "        tensors = list(map(lambda x: tf.expand_dims(tf.constant(x),0), tensors))\n",
        "        return tf.concat(tensors, 0), scores\n",
        "    def beam_accuracy(self, input, target):\n",
        "        accs = []\n",
        "\n",
        "        for i in range(self.k):\n",
        "            self.acc.reset_states()\n",
        "            self.acc.update_state(target, input[i, :])  \n",
        "            accs.append(self.acc.result())\n",
        "\n",
        "        return max(accs)\n",
        "    \n",
        "    def step(self, input, target, enc_state):\n",
        "\n",
        "        batch_acc = 0\n",
        "        sequences = []\n",
        "\n",
        "        enc_out, enc_state = self.model.encoder(input, enc_state)\n",
        "\n",
        "        dec_state = enc_state\n",
        "        dec_input = tf.expand_dims([self.model.targ_tokenizer.word_index[\"\\t\"]]*self.model.batch_size ,1)\n",
        "\n",
        "        for t in range(1, target.shape[1]):\n",
        "\n",
        "            preds, dec_state, _ = self.model.decoder(dec_input, dec_state, enc_out)\n",
        "\n",
        "            sequences.append(preds)\n",
        "            preds = tf.argmax(preds, 1)\n",
        "            dec_input = tf.expand_dims(preds, 1)\n",
        "\n",
        "        sequences = tf.concat(list(map(lambda x: tf.expand_dims(x, 1), sequences)), axis=1)\n",
        "\n",
        "        for i in range(target.shape[0]):\n",
        "\n",
        "            possibilities, scores = self.sample_beam_search(sequences[i, :, :])\n",
        "            batch_acc += self.beam_accuracy(possibilities, target[i, 1:])\n",
        "\n",
        "        batch_acc = batch_acc / target.shape[0]\n",
        "\n",
        "        return 0, batch_acc\n",
        "\n",
        "    def evaluate(self, test_dataset, batch_size=None, upto=5, use_wandb=False):\n",
        "        \n",
        "        if batch_size is not None:\n",
        "            self.model.batch_size = batch_size\n",
        "            test_dataset = test_dataset.batch(batch_size)\n",
        "        else:\n",
        "            self.model.batch_size = 1\n",
        "\n",
        "        test_acc = 0\n",
        "        enc_state = self.model.encoder.initialize_hidden_state(self.model.batch_size)\n",
        "\n",
        "        for batch, (input, target) in enumerate(test_dataset.take(upto)):\n",
        "           \n",
        "           _, acc = self.step(input, target, enc_state)\n",
        "           test_acc += acc\n",
        "\n",
        "        if use_wandb:\n",
        "            wandb.log({\"test acc (beam search)\": test_acc / upto})\n",
        "        print(f\"Test Accuracy on {upto*batch_size} samples: {test_acc / upto:.4f}\\n\")\n",
        "    def translate(self, word):\n",
        "\n",
        "        word = \"\\t\" + word + \"\\n\"\n",
        "        sequences = []\n",
        "        result = []\n",
        "\n",
        "        inputs = self.model.input_tokenizer.texts_to_sequences([word])\n",
        "        inputs = tf.keras.preprocessing.sequence.pad_sequences(inputs,\n",
        "                                                               maxlen=self.model.max_input_len,\n",
        "                                                               padding=\"post\")\n",
        "\n",
        "\n",
        "        enc_state = self.model.encoder.initialize_hidden_state(1)\n",
        "        enc_out, enc_state = self.model.encoder(inputs, enc_state)\n",
        "\n",
        "        dec_state = enc_state\n",
        "        dec_input = tf.expand_dims([self.model.targ_tokenizer.word_index[\"\\t\"]]*1, 1)\n",
        "\n",
        "        for t in range(1, self.model.max_target_len):\n",
        "\n",
        "            preds, dec_state, _ = self.model.decoder(dec_input, dec_state, enc_out)\n",
        "\n",
        "            sequences.append(preds)\n",
        "            preds = tf.argmax(preds, 1)\n",
        "            dec_input = tf.expand_dims(preds, 1)\n",
        "\n",
        "        sequences = tf.concat(list(map(lambda x: tf.expand_dims(x, 1), sequences)), axis=1)\n",
        "\n",
        "        possibilities, scores = self.sample_beam_search(tf.squeeze(sequences, 0))\n",
        "        output_words = self.model.targ_tokenizer.sequences_to_texts(possibilities.numpy())\n",
        "        \n",
        "        def post_process(word):\n",
        "            word = word.split(\" \")[:-1]\n",
        "            return \"\".join([x for x in word])\n",
        "\n",
        "        output_words = list(map(post_process, output_words))\n",
        "\n",
        "        return output_words, scores"
      ]
    },
    {
      "cell_type": "code",
      "execution_count": 122,
      "metadata": {
        "id": "fwR1miyeRrIG"
      },
      "outputs": [],
      "source": [
        "class Seq2SeqModel():\n",
        "    def __init__(self,embed_dim, enc_layers, dec_layers, type_layer, units, dropout,loss, optimizer, metric, attention=False):\n",
        "        self.embed_dim = embed_dim\n",
        "        self.enc_layers = enc_layers\n",
        "        self.attention = attention\n",
        "        self.dec_layers = dec_layers\n",
        "        self.units = units\n",
        "        self.dropout = dropout\n",
        "        self.stats = []\n",
        "        self.batch_size = 128\n",
        "        self.type_layer = type_layer\n",
        "        self.units = units\n",
        "        self.dropout = dropout\n",
        "        self.use_beam_search = False\n",
        "        self.loss = loss\n",
        "        self.optimizer = optimizer\n",
        "        self.metric = metric\n",
        "\n",
        "    \n",
        "    \n",
        "    def create_model(self):\n",
        "        self.encoder = Encoder(self.type_layer, self.enc_layers, self.units, len(self.input_tokenizer.word_index) + 1, self.embed_dim, self.dropout)\n",
        "        self.decoder = Decoder(self.type_layer, self.dec_layers, self.units, len(self.targ_tokenizer.word_index) + 1, self.embed_dim,  self.dropout, self.attention)                            \n",
        "    \n",
        "    @tf.function\n",
        "    def train_step(self, input, target, enc_state):\n",
        "        loss = 0 \n",
        "        with tf.GradientTape() as tape: \n",
        "            enc_out, enc_state = self.encoder.Enc_out_state(input, enc_state)\n",
        "            dec_input, dec_state = tf.expand_dims([self.targ_tokenizer.word_index[\"\\t\"]]*self.batch_size ,1), enc_state\n",
        "            for t in range(target.shape[1]-1):\n",
        "                    x = t+1\n",
        "                    preds, dec_state, _ = self.decoder.Dec_pred_state(dec_input, dec_state, enc_out)\n",
        "                    self.metric.update_state(target[:,x], preds)\n",
        "                    loss = loss + self.loss(target[:,x], preds)                    \n",
        "                    dec_input = tf.expand_dims(target[:,x], 1) \n",
        "\n",
        "            if random.random() < self.teacher_forcing_ratio:    \n",
        "               pass\n",
        "            else:\n",
        "                preds = tf.argmax(preds, 1)\n",
        "                dec_input = tf.expand_dims(preds, 1)\n",
        "\n",
        "            gradients = tape.gradient(loss, self.encoder.variables + self.decoder.variables)\n",
        "            self.optimizer.apply_gradients(zip(gradients, self.encoder.variables + self.decoder.variables))\n",
        "        return loss / target.shape[1], self.metric.result()  #return batch_loss\n",
        "\n",
        "\n",
        "    @tf.function\n",
        "    def validation_step(self, input, target, enc_state):\n",
        "        loss = 0  \n",
        "        enc_out, enc_state = self.encoder.Enc_out_state(input, enc_state)\n",
        "        dec_input, dec_state = tf.expand_dims([self.targ_tokenizer.word_index[\"\\t\"]]*self.batch_size ,1), enc_state\n",
        "        for t in range(target.shape[1]-1):\n",
        "            preds, dec_state, _ = self.decoder.Dec_pred_state(dec_input, dec_state, enc_out)\n",
        "            loss = loss + self.loss(target[:,t+1], preds)\n",
        "            self.metric.update_state(target[:,t+1], preds)\n",
        "            preds = tf.argmax(preds, 1)\n",
        "            dec_input = tf.expand_dims(preds, 1)        \n",
        "        return loss / target.shape[1], self.metric.result() #returning batch_size\n",
        "\n",
        "\n",
        "    def fit(self, dataset, validation_dataset, batch_size=128, epochs=5, use_wandb=False, teacher_forcing_ratio=1.0):\n",
        "        self.batch_size = batch_size        \n",
        "        steps_per_epoch = len(dataset) // self.batch_size\n",
        "        dataset = dataset.batch(self.batch_size, drop_remainder=True)\n",
        "        sample_inp, sample_targ = next(iter(dataset))\n",
        "        steps_per_epoch_val = len(validation_dataset) // self.batch_size        \n",
        "        val_dataset = validation_dataset.batch(self.batch_size, drop_remainder=True)        \n",
        "        self.max_input_len, self.max_target_len = sample_inp.shape[1],sample_targ.shape[1]\n",
        "        self.teacher_forcing_ratio = teacher_forcing_ratio\n",
        "        print(\"------------------------------------------------------------------------------------------------------------------------------------------\")\n",
        "        for epoch in range(1, epochs+1):\n",
        "            print(f\"Epochs {epoch}\\n\")\n",
        "            ## Training loop ##\n",
        "            total_loss = 0\n",
        "            total_acc = 0\n",
        "            self.metric.reset_states()\n",
        "            starting_time = time.time()  \n",
        "            if self.type_layer != \"lstm\":\n",
        "              enc_state = [tf.zeros((batch_size, self.units))]\n",
        "            else:\n",
        "              enc_state = [tf.zeros((batch_size, self.units))]*2\n",
        "            print(\"Training .....\\n\")\n",
        "            for batch, (input, target) in enumerate(dataset.take(steps_per_epoch)):\n",
        "                loss, acc = self.train_step(input, target, enc_state)\n",
        "                total_loss = total_loss + loss\n",
        "                total_acc = total_acc + acc                                \n",
        "                if (batch+1) % 100 == 0:\n",
        "                    print(f\"Batch {batch+1} Loss {loss:.4f}\")\n",
        "                if batch==0:\n",
        "                    print(f\"Batch {batch+1} Loss {loss:.4f}\")  \n",
        "            avg_acc = total_acc / steps_per_epoch\n",
        "            avg_loss = total_loss / steps_per_epoch \n",
        "            # Validation loop ##\n",
        "            self.metric.reset_states()\n",
        "\n",
        "            if self.type_layer != \"lstm\":\n",
        "              enc_state = [tf.zeros((batch_size, self.units))]\n",
        "            else:\n",
        "              enc_state = [tf.zeros((batch_size, self.units))]*2\n",
        "            total_val_acc = 0\n",
        "            total_val_loss = 0\n",
        "            print(\"\\nValidating ...\")\n",
        "            for batch, (input, target) in enumerate(val_dataset.take(steps_per_epoch_val)):\n",
        "                loss, acc = self.validation_step(input, target, enc_state)\n",
        "                total_val_loss = total_val_loss + loss\n",
        "                total_val_acc = total_val_acc + acc\n",
        "\n",
        "            print(f\"\\nTrain Loss: {avg_loss} Train Accuracy: {avg_acc*100} Validation Loss: { total_val_loss / steps_per_epoch_val} Validation Accuracy: {(total_val_acc / steps_per_epoch_val)*100}\")\n",
        "            time_taken = time.time() - starting_time\n",
        "            self.stats.append({\"epoch\": epoch,\n",
        "                            \"train loss\": avg_loss,\n",
        "                            \"val loss\": total_val_loss / steps_per_epoch_val,\n",
        "                            \"train acc\": avg_acc*100,\n",
        "                            \"val acc\": (total_val_acc / steps_per_epoch_val)*100,\n",
        "                            \"training time\": time_taken})\n",
        "            \n",
        "            if use_wandb:\n",
        "                wandb.log(self.stats[-1])\n",
        "            \n",
        "            print(f\"\\nTime taken for the epoch {time_taken:.4f}\")\n",
        "            print(\"------------------------------------------------------------------------------------------------------------------------------------------\") \n",
        "        print(\"\\nModel trained successfully !!\")\n",
        "        \n",
        "    def evaluate(self, test_dataset, batch_size=None):\n",
        "\n",
        "        if batch_size is not None:\n",
        "            self.batch_size = batch_size\n",
        "\n",
        "        test_steps_per_epoch = len(test_dataset) // batch_size\n",
        "        test_dataset = test_dataset.batch(batch_size, drop_remainder=True)\n",
        "        \n",
        "        total_test_loss = 0\n",
        "        total_test_accuracy = 0\n",
        "        self.metric.reset_states()\n",
        "\n",
        "        enc_state = self.encoder.initialize_hidden_state(self.batch_size)\n",
        "\n",
        "        print(\"\\nRunning Model on the Test dataset .....\\n\")\n",
        "        for batch, (input, target) in enumerate(test_dataset.take(test_steps_per_epoch)):\n",
        "            batch_loss, acc = self.validation_step(input, target, enc_state)\n",
        "            total_test_loss += batch_loss\n",
        "            total_test_accuracy += acc\n",
        "\n",
        "        test_acc = total_test_accuracy / test_steps_per_epoch\n",
        "        test_loss = total_test_loss / test_steps_per_epoch\n",
        "    \n",
        "        print(f\"Test Loss: {test_loss:.4f} Test Accuracy: {test_acc:.4f}\")\n",
        "\n",
        "        return test_loss,test_acc\n",
        "    def translate(self, word, get_heatmap=False):\n",
        "\n",
        "        word = \"\\t\" + word + \"\\n\"\n",
        "\n",
        "        inputs = self.input_tokenizer.texts_to_sequences([word])\n",
        "        inputs = tf.keras.preprocessing.sequence.pad_sequences(inputs, maxlen=self.max_input_len, padding=\"post\")                                                                                                                         \n",
        "        result = \"\"\n",
        "        att_wts = []\n",
        "\n",
        "        enc_state = self.encoder.initialize_hidden_state(1)\n",
        "        enc_out, enc_state = self.encoder.Enc_out_state(inputs, enc_state)\n",
        "\n",
        "        dec_state = enc_state\n",
        "        dec_input = tf.expand_dims([self.targ_tokenizer.word_index[\"\\t\"]]*1, 1)\n",
        "\n",
        "        for t in range(1, self.max_target_len):\n",
        "            preds, dec_state, attention_weights = self.decoder.Dec_pred_state(dec_input, dec_state, enc_out)       \n",
        "            if get_heatmap:\n",
        "                att_wts.append(attention_weights)    \n",
        "            preds = tf.argmax(preds, 1)\n",
        "            next_char = self.targ_tokenizer.index_word[preds.numpy().item()]\n",
        "            result += next_char\n",
        "            dec_input = tf.expand_dims(preds, 1)\n",
        "            if next_char == \"\\n\":\n",
        "                return result[:-1], att_wts[:-1]\n",
        "        return result[:-1], att_wts[:-1]\n",
        "\n",
        "    def plot_attention_heatmap(self, word, ax, font_path=\"/usr/share/fonts/truetype/lohit-devanagari/Lohit-Devanagari.ttf\"):\n",
        "\n",
        "        translated_word, attn_wts = self.translate(word, get_heatmap=True)\n",
        "        attn_heatmap = tf.squeeze(tf.concat(attn_wts, 0), -1).numpy()\n",
        "\n",
        "        input_word_len = len(word)\n",
        "        output_word_len = len(translated_word)\n",
        "\n",
        "        ax.imshow(attn_heatmap[:, :input_word_len])\n",
        "\n",
        "        font_prop = FontProperties(fname=font_path, size=18)\n",
        "\n",
        "        ax.set_xticks(np.arange(input_word_len))\n",
        "        ax.set_yticks(np.arange(output_word_len))\n",
        "\n",
        "        ax.set_xticklabels(list(word))\n",
        "        ax.set_yticklabels(list(translated_word), fontproperties=font_prop)\n"
      ]
    },
    {
      "cell_type": "markdown",
      "metadata": {
        "id": "CSZFHEmw9KRw"
      },
      "source": [
        "# Visualizing Model Outputs"
      ]
    },
    {
      "cell_type": "code",
      "source": [
        "class Coloring():\n",
        "    def __init__(self, word_color, color_default):\n",
        "       \n",
        "        self.word_color = word_color\n",
        "        self.color_default = color_default\n",
        "    def __call__(self, word, **kwargs):\n",
        "        return self.word_color.get(word, self.color_default)"
      ],
      "metadata": {
        "id": "zaG5V10J9KIT"
      },
      "execution_count": 85,
      "outputs": []
    },
    {
      "cell_type": "code",
      "execution_count": 86,
      "metadata": {
        "id": "LPPCBrHukCMZ"
      },
      "outputs": [],
      "source": [
        "#get_color\n",
        "def get_colors(inputs, targets, preds):\n",
        "    n = len(targets)\n",
        "    smoother = SmoothingFunction().method2\n",
        "    def get_scores(target, output, smoother):\n",
        "        return sentence_bleu(list(list(target)), list(output), smoothing_function=smoother)\n",
        "    red = Color(\"red\")\n",
        "    colors = list(red.range_to(Color(\"violet\"),n))\n",
        "    colors = list(map(lambda c: c.hex, colors))\n",
        "    scores = []\n",
        "    for i in range(n):\n",
        "        scores.append(get_scores(targets[i], preds[i], smoother))\n",
        "    d = dict(zip(sorted(scores), list(range(n))))\n",
        "    ordered_colors = list(map(lambda x: colors[d[x]], scores))  \n",
        "    input_colors = dict(zip(inputs, ordered_colors))\n",
        "    target_colors = dict(zip(targets, ordered_colors))\n",
        "    pred_colors = dict(zip(preds, ordered_colors))\n",
        "    return input_colors, target_colors, pred_colors\n"
      ]
    },
    {
      "cell_type": "code",
      "source": [
        "#visualize_model_outputs\n",
        "def visualize_model_outputs(model, test_file=creating_data(\"hi\")[2], n=10, font_path=\"/usr/share/fonts/truetype/lohit-devanagari/Lohit-Devanagari.ttf\"):\n",
        "    df = pd.read_csv(test_file, sep=\"\\t\", header=None)\n",
        "    df = df.sample(n=n).reset_index(drop=True)\n",
        "\n",
        "    inputs = df[1].astype(str).tolist()\n",
        "    targets = df[0].astype(str).tolist()\n",
        "    preds = list(map(lambda word: model.translate(word)[0], inputs))\n",
        "    input_colors, target_colors, pred_colors =  get_colors(inputs, targets, preds)# Generate colors for the words\n",
        "    color_fn_ip = Coloring(input_colors, \"white\")\n",
        "    color_fn_tr = Coloring(target_colors, \"white\")\n",
        "    color_fn_op = Coloring(pred_colors, \"white\")\n",
        "    input_text = Counter(inputs)\n",
        "    target_text = Counter(targets)\n",
        "    output_text = Counter(preds)\n",
        "    fig, axs = plt.subplots(1,3, figsize=(30, 15))\n",
        "    plt.tight_layout()\n",
        "    wc_in = WordCloud(random_state=1).generate_from_frequencies(input_text)\n",
        "    wc_out = WordCloud(font_path=font_path, random_state=1).generate_from_frequencies(output_text)\n",
        "    wc_tar = WordCloud(font_path=font_path, random_state=1).generate_from_frequencies(target_text)\n",
        "    axs[0].set_title(\"Input words\", fontsize=30)\n",
        "    axs[0].imshow(wc_in.recolor(color_func=color_fn_ip))\n",
        "    axs[1].set_title(\"Target words\", fontsize=30)\n",
        "    axs[1].imshow(wc_tar.recolor(color_func=color_fn_tr))\n",
        "    axs[2].set_title(\"Model Prediction Words\", fontsize=30)\n",
        "    axs[2].imshow(wc_out.recolor(color_func=color_fn_op))\n",
        "    plt.show()\n",
        "    "
      ],
      "metadata": {
        "id": "HuNHXF729M3u"
      },
      "execution_count": 87,
      "outputs": []
    },
    {
      "cell_type": "code",
      "source": [
        "def Evaluating_Random_words(model, test_file=creating_data(\"hi\")[2], n=10):\n",
        "\n",
        "    df = pd.read_csv(test_file, sep=\"\\t\", header=None)\n",
        "    df = df.sample(n=n).reset_index(drop=True)\n",
        "\n",
        "    print(f\"Arbitrarily evaluating the model on {n} words\\n\")\n",
        "    for i in range(n):\n",
        "        word = str(df[1][i])\n",
        "        print(f\"Input word: {word}\")\n",
        "        print(f\"Actual translation of the word: {str(df[0][i])}\")\n",
        "        print(f\"Model translation of the word: {model.translate(word)[0]}\\n\")\n"
      ],
      "metadata": {
        "id": "hOkdkVn79FsV"
      },
      "execution_count": 88,
      "outputs": []
    },
    {
      "cell_type": "code",
      "source": [
        "def Test_Model(lang, embed_dim, enc_layers, dec_layers, type_layer, units, dropout, attention, teacher_forcing_ratio=1.0, epch =20,save_outputs=None):\n",
        "    TRAIN_TSV, VAL_TSV, TEST_TSV = creating_data(lang)\n",
        "    model = Seq2SeqModel(embed_dim,enc_layers, dec_layers, type_layer,units,dropout, tf.keras.losses.SparseCategoricalCrossentropy(),tf.keras.optimizers.Adam(),tf.keras.metrics.SparseCategoricalAccuracy(),attention)                                                                                                                                                                                      \n",
        "    dataset, input_tokenizer, targ_tokenizer = preprocess_data(TRAIN_TSV)\n",
        "    val_dataset, _, _ = preprocess_data(VAL_TSV, input_tokenizer, targ_tokenizer)\n",
        "    model.input_tokenizer = input_tokenizer\n",
        "    model.targ_tokenizer = targ_tokenizer\n",
        "    model.create_model()\n",
        "    model.fit(dataset, val_dataset, epochs=10, use_wandb=False, teacher_forcing_ratio=teacher_forcing_ratio)\n",
        "\n",
        "    # Character accuracy\n",
        "    test_dataset, _, _ = preprocess_data(TEST_TSV, model.input_tokenizer, model.targ_tokenizer)\n",
        "    test_loss, test_acc = model.evaluate(test_dataset, batch_size=100)\n",
        "\n",
        "    #  Word accuracy #\n",
        "    test_tsv = pd.read_csv(TEST_TSV, sep=\"\\t\", header=None)\n",
        "    inputs = test_tsv[1].astype(str).tolist()\n",
        "    targets = test_tsv[0].astype(str).tolist()\n",
        "    \n",
        "    outputs = []\n",
        "\n",
        "    for word in inputs:\n",
        "        outputs.append(model.translate(word)[0])\n",
        "\n",
        "    def word_level_acc(outputs, targets):\n",
        "        return np.sum(np.asarray(outputs) == np.array(targets)) / len(outputs)\n",
        "\n",
        "    word_acc = word_level_acc(outputs, targets)\n",
        "    print(f\"Word level accuracy: {word_acc}\")\n",
        "    \n",
        "    #wandb.log({\"Word-Accuracy\":word_acc})\n",
        "\n",
        "    #if save_outputs is None:\n",
        "    df = pd.DataFrame()\n",
        "    df[\"inputs\"] = inputs\n",
        "    df[\"targets\"] = targets\n",
        "    df[\"outputs\"] = outputs\n",
        "    df.to_csv('/content/drive/MyDrive/dakshina_dataset_v1.0/pred_attention.csv')\n"
      ],
      "metadata": {
        "id": "WaiYcWiaJeIn"
      },
      "execution_count": 120,
      "outputs": []
    },
    {
      "cell_type": "markdown",
      "metadata": {
        "id": "tvVSaWfGYvvn"
      },
      "source": [
        "# Q6 Visualizing Model Connectivity"
      ]
    },
    {
      "cell_type": "code",
      "execution_count": 90,
      "metadata": {
        "id": "OeWT7Yno7LXd"
      },
      "outputs": [],
      "source": [
        "# Tools for getting model connectivity between input and output characters\n",
        "def get_lstm_output(decoder, x, hidden, enc_out=None):\n",
        "    \n",
        "    x = decoder.embed_layer(x)\n",
        "\n",
        "    if decoder.attention:\n",
        "        context_vector, attention_weights = decoder.attention_layer(hidden, enc_out)\n",
        "        x = tf.concat([tf.expand_dims(context_vector, 1), x], -1)\n",
        "    else:\n",
        "        attention_weights = None\n",
        "\n",
        "    x = decoder.rnn_layers[0](x, initial_state=hidden)\n",
        "\n",
        "    for layer in decoder.rnn_layers[1:]:\n",
        "        x = layer(x)\n",
        "\n",
        "    output, state = x[0], x[1:]\n",
        "\n",
        "    #output = decoder.dense(decoder.flatten(output))\n",
        "    \n",
        "    return output, state, attention_weights\n",
        "\n",
        "def get_output_from_embedding(encoder, x, hidden):\n",
        "\n",
        "    x = encoder.rnn_layers[0](x, initial_state=hidden)    \n",
        "    for layer in encoder.rnn_layers[1:]:\n",
        "        x = layer(x)\n",
        "    output, state = x[0], x[1:]\n",
        "    return output, state\n",
        "def get_connectivity(model, word):\n",
        "    word = \"\\t\" + word + \"\\n\"\n",
        "    inputs = model.input_tokenizer.texts_to_sequences([word])\n",
        "    inputs = tf.keras.preprocessing.sequence.pad_sequences(inputs,maxlen=model.max_input_len,padding=\"post\")                                                                                                                     \n",
        "    result = \"\"\n",
        "    gradient_list = []\n",
        "    enc_state = model.encoder.initialize_hidden_state(1)\n",
        "    embedded_in = model.encoder.embedding(inputs)\n",
        "    with tf.GradientTape(persistent=True, watch_accessed_variables=False) as tape:\n",
        "        tape.watch(embedded_in)\n",
        "\n",
        "        enc_out, enc_state = get_output_from_embedding(model.encoder, embedded_in, enc_state)\n",
        "\n",
        "        dec_state = enc_state\n",
        "        dec_input = tf.expand_dims([model.targ_tokenizer.word_index[\"\\t\"]]*1, 1)\n",
        "\n",
        "        for t in range(1, model.max_target_len):\n",
        "\n",
        "            lstm_out, dec_state, _ = get_lstm_output(model.decoder, dec_input, dec_state, enc_out)\n",
        "\n",
        "            preds = model.decoder.dense(model.decoder.flatten(lstm_out))\n",
        "            gradient_list.append(tape.gradient(lstm_out, embedded_in)[0])\n",
        "            \n",
        "            preds = tf.argmax(preds, 1)\n",
        "            next_char = model.targ_tokenizer.index_word[preds.numpy().item()]\n",
        "            result += next_char\n",
        "\n",
        "            dec_input = tf.expand_dims(preds, 1)\n",
        "\n",
        "            if next_char == \"\\n\":\n",
        "                return result[:-1], gradient_list[:-1]\n",
        "\n",
        "        return result[:-1], gradient_list[:-1]"
      ]
    },
    {
      "cell_type": "code",
      "execution_count": 91,
      "metadata": {
        "id": "22kfP4uvp63B"
      },
      "outputs": [],
      "source": [
        "# Imports for visualising the model connectivity\n",
        "from sklearn.preprocessing import MinMaxScaler\n",
        "from keras.callbacks import ModelCheckpoint\n",
        "from keras.utils import np_utils\n",
        "\n",
        "from IPython.display import HTML as html_print\n",
        "from IPython.display import display\n",
        "import tensorflow.keras.backend as K\n",
        "\n",
        "# get html element\n",
        "def cstr(s, color='black'):\n",
        "    if s == ' ':\n",
        "      return \"<text style=color:#000;padding-left:10px;background-color:{}> </text>\".format(color, s)\n",
        "    else:\n",
        "      return \"<text style=color:#000;background-color:{}>{} </text>\".format(color, s)\n",
        "\t\n",
        "# print html\n",
        "def print_color(t):\n",
        "\t  display(html_print(''.join([cstr(ti, color=ci) for ti,ci in t])))\n",
        "\n",
        "# get appropriate color for value\n",
        "def get_clr(value):\n",
        "    colors = ['#85c2e1', '#89c4e2', '#95cae5', '#99cce6', '#a1d0e8'\n",
        "      '#b2d9ec', '#baddee', '#c2e1f0', '#eff7fb', '#f9e8e8',\n",
        "      '#f9e8e8', '#f9d4d4', '#f9bdbd', '#f8a8a8', '#f68f8f',\n",
        "      '#f47676', '#f45f5f', '#f34343', '#f33b3b', '#f42e2e']\n",
        "    value = int(value * 19)\n",
        "    if value == 19:\n",
        "        value -= 1\n",
        "    return colors[value]\n",
        "\n",
        "# sigmoid function\n",
        "def sigmoid(x):\n",
        "    z = 1/(1 + np.exp(-x)) \n",
        "    return z\n",
        "\n",
        "def softmax(x):\n",
        "    v = np.exp(x)\n",
        "    v = v / np.sum(v)\n",
        "    return v\n",
        "\n",
        "def get_gradient_norms(grad_list, word, activation=\"sigmoid\"):\n",
        "    grad_norms = []\n",
        "    for grad_tensor in grad_list:\n",
        "        grad_mags = tf.norm(grad_tensor, axis=1)\n",
        "        grad_mags = grad_mags[:len(word)]\n",
        "        if activation == \"softmax\":\n",
        "            grad_mags_scaled = softmax(grad_mags)\n",
        "        elif activation == \"scaler\":\n",
        "            scaler = MinMaxScaler()\n",
        "            grad_mags = tf.reshape(grad_mags, (-1,1))\n",
        "            grad_mags_scaled = scaler.fit_transform(grad_mags)\n",
        "        else:\n",
        "            grad_mags_scaled = sigmoid(grad_mags)\n",
        "        grad_norms.append(grad_mags_scaled)\n",
        "    return grad_norms\n",
        "\n",
        "def visualize(grad_norms, word, translated_word):\n",
        "    print(\"Actual Word:\", word)\n",
        "    print(\"Transliterated Word:\", translated_word)\n",
        "    for i in range(len(translated_word)):\n",
        "        print(\"Visualization for\", translated_word[i],\":\")\n",
        "        text_colours = []\n",
        "        for j in range(len(grad_norms[i])):\n",
        "            text = (word[j], get_clr(grad_norms[i][j]))\n",
        "            text_colours.append(text)\n",
        "        print_color(text_colours)\n",
        "\n",
        "def visualise_connectivity(model, word, activation=\"sigmoid\"):\n",
        "    translated_word, grad_list = get_connectivity(model, word)\n",
        "    grad_norms = get_gradient_norms(grad_list, word, activation)\n",
        "    visualize(grad_norms, word, translated_word)"
      ]
    },
    {
      "cell_type": "code",
      "execution_count": 123,
      "metadata": {
        "colab": {
          "base_uri": "https://localhost:8080/"
        },
        "id": "kzkdsWRlZzTf",
        "outputId": "e4c5c690-2042-4ab0-a1da-d7381ba30229"
      },
      "outputs": [
        {
          "output_type": "stream",
          "name": "stdout",
          "text": [
            "------------------------------------------------------------------------------------------------------------------------------------------\n",
            "Epochs 1\n",
            "\n",
            "Training .....\n",
            "\n",
            "Batch 1 Loss 3.9865\n",
            "Batch 100 Loss 1.0249\n",
            "Batch 200 Loss 0.9009\n",
            "Batch 300 Loss 0.8969\n",
            "\n",
            "Validating ...\n",
            "\n",
            "Train Loss: 1.0409018993377686 Train Accuracy: 68.68141174316406 Validation Loss: 3.1725053787231445 Validation Accuracy: 43.80744171142578\n",
            "\n",
            "Time taken for the epoch 128.0821\n",
            "------------------------------------------------------------------------------------------------------------------------------------------\n",
            "Epochs 2\n",
            "\n",
            "Training .....\n",
            "\n",
            "Batch 1 Loss 0.8422\n",
            "Batch 100 Loss 0.7658\n",
            "Batch 200 Loss 0.7113\n",
            "Batch 300 Loss 0.5850\n",
            "\n",
            "Validating ...\n",
            "\n",
            "Train Loss: 0.7134098410606384 Train Accuracy: 76.6253662109375 Validation Loss: 2.155086040496826 Validation Accuracy: 59.87984085083008\n",
            "\n",
            "Time taken for the epoch 34.6958\n",
            "------------------------------------------------------------------------------------------------------------------------------------------\n",
            "Epochs 3\n",
            "\n",
            "Training .....\n",
            "\n",
            "Batch 1 Loss 0.5492\n",
            "Batch 100 Loss 0.4929\n",
            "Batch 200 Loss 0.4213\n",
            "Batch 300 Loss 0.3522\n",
            "\n",
            "Validating ...\n",
            "\n",
            "Train Loss: 0.42460310459136963 Train Accuracy: 84.66673278808594 Validation Loss: 1.8984471559524536 Validation Accuracy: 69.27434539794922\n",
            "\n",
            "Time taken for the epoch 34.2136\n",
            "------------------------------------------------------------------------------------------------------------------------------------------\n",
            "Epochs 4\n",
            "\n",
            "Training .....\n",
            "\n",
            "Batch 1 Loss 0.3080\n",
            "Batch 100 Loss 0.2473\n",
            "Batch 200 Loss 0.2361\n",
            "Batch 300 Loss 0.2038\n",
            "\n",
            "Validating ...\n",
            "\n",
            "Train Loss: 0.246476948261261 Train Accuracy: 91.31381225585938 Validation Loss: 1.4070255756378174 Validation Accuracy: 78.45774841308594\n",
            "\n",
            "Time taken for the epoch 34.7941\n",
            "------------------------------------------------------------------------------------------------------------------------------------------\n",
            "Epochs 5\n",
            "\n",
            "Training .....\n",
            "\n",
            "Batch 1 Loss 0.2016\n",
            "Batch 100 Loss 0.1938\n",
            "Batch 200 Loss 0.1910\n",
            "Batch 300 Loss 0.1831\n",
            "\n",
            "Validating ...\n",
            "\n",
            "Train Loss: 0.17773409187793732 Train Accuracy: 94.02458953857422 Validation Loss: 1.349186897277832 Validation Accuracy: 81.03966522216797\n",
            "\n",
            "Time taken for the epoch 34.2709\n",
            "------------------------------------------------------------------------------------------------------------------------------------------\n",
            "Epochs 6\n",
            "\n",
            "Training .....\n",
            "\n",
            "Batch 1 Loss 0.1539\n",
            "Batch 100 Loss 0.1540\n",
            "Batch 200 Loss 0.1354\n",
            "Batch 300 Loss 0.1395\n",
            "\n",
            "Validating ...\n",
            "\n",
            "Train Loss: 0.1453951597213745 Train Accuracy: 95.18792724609375 Validation Loss: 1.2393293380737305 Validation Accuracy: 83.28179931640625\n",
            "\n",
            "Time taken for the epoch 34.8197\n",
            "------------------------------------------------------------------------------------------------------------------------------------------\n",
            "Epochs 7\n",
            "\n",
            "Training .....\n",
            "\n",
            "Batch 1 Loss 0.1363\n",
            "Batch 100 Loss 0.1308\n",
            "Batch 200 Loss 0.1360\n",
            "Batch 300 Loss 0.1199\n",
            "\n",
            "Validating ...\n",
            "\n",
            "Train Loss: 0.12419518828392029 Train Accuracy: 95.84781646728516 Validation Loss: 1.2668951749801636 Validation Accuracy: 83.52174377441406\n",
            "\n",
            "Time taken for the epoch 34.1550\n",
            "------------------------------------------------------------------------------------------------------------------------------------------\n",
            "Epochs 8\n",
            "\n",
            "Training .....\n",
            "\n",
            "Batch 1 Loss 0.1167\n",
            "Batch 100 Loss 0.0991\n",
            "Batch 200 Loss 0.1179\n",
            "Batch 300 Loss 0.0939\n",
            "\n",
            "Validating ...\n",
            "\n",
            "Train Loss: 0.10867837816476822 Train Accuracy: 96.4447250366211 Validation Loss: 1.2866836786270142 Validation Accuracy: 83.83650207519531\n",
            "\n",
            "Time taken for the epoch 34.9628\n",
            "------------------------------------------------------------------------------------------------------------------------------------------\n",
            "Epochs 9\n",
            "\n",
            "Training .....\n",
            "\n",
            "Batch 1 Loss 0.0892\n",
            "Batch 100 Loss 0.0918\n",
            "Batch 200 Loss 0.1041\n",
            "Batch 300 Loss 0.0961\n",
            "\n",
            "Validating ...\n",
            "\n",
            "Train Loss: 0.09591720253229141 Train Accuracy: 96.8279800415039 Validation Loss: 1.2301756143569946 Validation Accuracy: 84.16754913330078\n",
            "\n",
            "Time taken for the epoch 34.8005\n",
            "------------------------------------------------------------------------------------------------------------------------------------------\n",
            "Epochs 10\n",
            "\n",
            "Training .....\n",
            "\n",
            "Batch 1 Loss 0.0753\n",
            "Batch 100 Loss 0.0846\n",
            "Batch 200 Loss 0.0788\n",
            "Batch 300 Loss 0.0720\n",
            "\n",
            "Validating ...\n",
            "\n",
            "Train Loss: 0.08595152199268341 Train Accuracy: 97.17737579345703 Validation Loss: 1.2692389488220215 Validation Accuracy: 84.18995666503906\n",
            "\n",
            "Time taken for the epoch 34.4002\n",
            "------------------------------------------------------------------------------------------------------------------------------------------\n",
            "\n",
            "Model trained successfully !!\n",
            "\n",
            "Running Model on the Test dataset .....\n",
            "\n",
            "Test Loss: 1.2437 Test Accuracy: 0.8456\n",
            "Word level accuracy: 0.38005330964015993\n"
          ]
        }
      ],
      "source": [
        "model = Test_Model(lang=\"hi\",embed_dim=256,enc_layers=3,dec_layers=3,type_layer=\"lstm\",units=256,dropout=0.2,attention=True)                                                                                                                                                          "
      ]
    },
    {
      "cell_type": "code",
      "execution_count": 71,
      "metadata": {
        "id": "zIsAhuh5fctn",
        "colab": {
          "base_uri": "https://localhost:8080/",
          "height": 247
        },
        "outputId": "2224adba-9b33-4435-9ed2-9f35b79db17d"
      },
      "outputs": [
        {
          "output_type": "display_data",
          "data": {
            "text/plain": [
              "<Figure size 2160x1080 with 3 Axes>"
            ],
            "image/png": "[encoded data removed]"
          },
          "metadata": {
            "needs_background": "light"
          }
        }
      ],
      "source": [
        "visualize_model_outputs(model, n=10)"
      ]
    },
    {
      "cell_type": "code",
      "execution_count": 72,
      "metadata": {
        "colab": {
          "base_uri": "https://localhost:8080/"
        },
        "id": "sgY9jxQo2I1Q",
        "outputId": "8d2a59cd-e87b-4151-944a-6cf29b0b7cec"
      },
      "outputs": [
        {
          "output_type": "stream",
          "name": "stdout",
          "text": [
            "['batlaae', 'maine', 'semen', 'pahno', 'safety']\n"
          ]
        }
      ],
      "source": [
        "def get_test_words(n):\n",
        "    test_df = pd.read_csv(creating_data(\"hi\")[2])\n",
        "    test_sample = test_df.sample(n)\n",
        "    test_sample.reset_index(inplace=True, drop=True)\n",
        "    test_words = []\n",
        "    for i in test_sample.index:\n",
        "        entry = test_sample[\"अंक\\tank\\t5\"].loc[i]\n",
        "        parts = entry.split(\"\\t\")\n",
        "        word = parts[1]\n",
        "        test_words.append(word)\n",
        "    return test_words\n",
        "\n",
        "test_words = get_test_words(5)\n",
        "print(test_words)"
      ]
    },
    {
      "cell_type": "code",
      "execution_count": 73,
      "metadata": {
        "id": "pgDA-bWL1ueE",
        "colab": {
          "base_uri": "https://localhost:8080/",
          "height": 1000
        },
        "outputId": "5103154d-a0c5-415f-db2f-e01607e18d0c"
      },
      "outputs": [
        {
          "output_type": "stream",
          "name": "stdout",
          "text": [
            "WARNING:tensorflow:Calling GradientTape.gradient on a persistent tape inside its context is significantly less efficient than calling it outside the context (it causes the gradient ops to be recorded on the tape, leading to increased CPU and memory usage). Only call GradientTape.gradient inside the context if you actually want to trace the gradient in order to compute higher order derivatives.\n",
            "Actual Word: batlaae\n",
            "Transliterated Word: आनालान\n",
            "Visualization for आ :\n"
          ]
        },
        {
          "output_type": "display_data",
          "data": {
            "text/plain": [
              "<IPython.core.display.HTML object>"
            ],
            "text/html": [
              "<text style=color:#000;background-color:#f42e2e>b </text><text style=color:#000;background-color:#f42e2e>a </text><text style=color:#000;background-color:#f34343>t </text><text style=color:#000;background-color:#f47676>l </text><text style=color:#000;background-color:#f9d4d4>a </text><text style=color:#000;background-color:#baddee>a </text><text style=color:#000;background-color:#85c2e1>e </text>"
            ]
          },
          "metadata": {}
        },
        {
          "output_type": "stream",
          "name": "stdout",
          "text": [
            "Visualization for न :\n"
          ]
        },
        {
          "output_type": "display_data",
          "data": {
            "text/plain": [
              "<IPython.core.display.HTML object>"
            ],
            "text/html": [
              "<text style=color:#000;background-color:#85c2e1>b </text><text style=color:#000;background-color:#85c2e1>a </text><text style=color:#000;background-color:#85c2e1>t </text><text style=color:#000;background-color:#95cae5>l </text><text style=color:#000;background-color:#c2e1f0>a </text><text style=color:#000;background-color:#baddee>a </text><text style=color:#000;background-color:#f42e2e>e </text>"
            ]
          },
          "metadata": {}
        },
        {
          "output_type": "stream",
          "name": "stdout",
          "text": [
            "Visualization for ा :\n"
          ]
        },
        {
          "output_type": "display_data",
          "data": {
            "text/plain": [
              "<IPython.core.display.HTML object>"
            ],
            "text/html": [
              "<text style=color:#000;background-color:#85c2e1>b </text><text style=color:#000;background-color:#85c2e1>a </text><text style=color:#000;background-color:#85c2e1>t </text><text style=color:#000;background-color:#85c2e1>l </text><text style=color:#000;background-color:#85c2e1>a </text><text style=color:#000;background-color:#85c2e1>a </text><text style=color:#000;background-color:#85c2e1>e </text>"
            ]
          },
          "metadata": {}
        },
        {
          "output_type": "stream",
          "name": "stdout",
          "text": [
            "Visualization for ल :\n"
          ]
        },
        {
          "output_type": "display_data",
          "data": {
            "text/plain": [
              "<IPython.core.display.HTML object>"
            ],
            "text/html": [
              "<text style=color:#000;background-color:#85c2e1>b </text><text style=color:#000;background-color:#85c2e1>a </text><text style=color:#000;background-color:#85c2e1>t </text><text style=color:#000;background-color:#85c2e1>l </text><text style=color:#000;background-color:#85c2e1>a </text><text style=color:#000;background-color:#85c2e1>a </text><text style=color:#000;background-color:#85c2e1>e </text>"
            ]
          },
          "metadata": {}
        },
        {
          "output_type": "stream",
          "name": "stdout",
          "text": [
            "Visualization for ा :\n"
          ]
        },
        {
          "output_type": "display_data",
          "data": {
            "text/plain": [
              "<IPython.core.display.HTML object>"
            ],
            "text/html": [
              "<text style=color:#000;background-color:#85c2e1>b </text><text style=color:#000;background-color:#85c2e1>a </text><text style=color:#000;background-color:#85c2e1>t </text><text style=color:#000;background-color:#85c2e1>l </text><text style=color:#000;background-color:#85c2e1>a </text><text style=color:#000;background-color:#85c2e1>a </text><text style=color:#000;background-color:#85c2e1>e </text>"
            ]
          },
          "metadata": {}
        },
        {
          "output_type": "stream",
          "name": "stdout",
          "text": [
            "Visualization for न :\n"
          ]
        },
        {
          "output_type": "display_data",
          "data": {
            "text/plain": [
              "<IPython.core.display.HTML object>"
            ],
            "text/html": [
              "<text style=color:#000;background-color:#85c2e1>b </text><text style=color:#000;background-color:#85c2e1>a </text><text style=color:#000;background-color:#85c2e1>t </text><text style=color:#000;background-color:#85c2e1>l </text><text style=color:#000;background-color:#85c2e1>a </text><text style=color:#000;background-color:#85c2e1>a </text><text style=color:#000;background-color:#85c2e1>e </text>"
            ]
          },
          "metadata": {}
        },
        {
          "output_type": "stream",
          "name": "stdout",
          "text": [
            "Actual Word: maine\n",
            "Transliterated Word: आलाली\n",
            "Visualization for आ :\n"
          ]
        },
        {
          "output_type": "display_data",
          "data": {
            "text/plain": [
              "<IPython.core.display.HTML object>"
            ],
            "text/html": [
              "<text style=color:#000;background-color:#f42e2e>m </text><text style=color:#000;background-color:#f34343>a </text><text style=color:#000;background-color:#f9d4d4>i </text><text style=color:#000;background-color:#baddee>n </text><text style=color:#000;background-color:#85c2e1>e </text>"
            ]
          },
          "metadata": {}
        },
        {
          "output_type": "stream",
          "name": "stdout",
          "text": [
            "Visualization for ल :\n"
          ]
        },
        {
          "output_type": "display_data",
          "data": {
            "text/plain": [
              "<IPython.core.display.HTML object>"
            ],
            "text/html": [
              "<text style=color:#000;background-color:#85c2e1>m </text><text style=color:#000;background-color:#f42e2e>a </text><text style=color:#000;background-color:#99cce6>i </text><text style=color:#000;background-color:#baddee>n </text><text style=color:#000;background-color:#f68f8f>e </text>"
            ]
          },
          "metadata": {}
        },
        {
          "output_type": "stream",
          "name": "stdout",
          "text": [
            "Visualization for ा :\n"
          ]
        },
        {
          "output_type": "display_data",
          "data": {
            "text/plain": [
              "<IPython.core.display.HTML object>"
            ],
            "text/html": [
              "<text style=color:#000;background-color:#85c2e1>m </text><text style=color:#000;background-color:#85c2e1>a </text><text style=color:#000;background-color:#85c2e1>i </text><text style=color:#000;background-color:#85c2e1>n </text><text style=color:#000;background-color:#85c2e1>e </text>"
            ]
          },
          "metadata": {}
        },
        {
          "output_type": "stream",
          "name": "stdout",
          "text": [
            "Visualization for ल :\n"
          ]
        },
        {
          "output_type": "display_data",
          "data": {
            "text/plain": [
              "<IPython.core.display.HTML object>"
            ],
            "text/html": [
              "<text style=color:#000;background-color:#85c2e1>m </text><text style=color:#000;background-color:#85c2e1>a </text><text style=color:#000;background-color:#85c2e1>i </text><text style=color:#000;background-color:#85c2e1>n </text><text style=color:#000;background-color:#85c2e1>e </text>"
            ]
          },
          "metadata": {}
        },
        {
          "output_type": "stream",
          "name": "stdout",
          "text": [
            "Visualization for ी :\n"
          ]
        },
        {
          "output_type": "display_data",
          "data": {
            "text/plain": [
              "<IPython.core.display.HTML object>"
            ],
            "text/html": [
              "<text style=color:#000;background-color:#85c2e1>m </text><text style=color:#000;background-color:#85c2e1>a </text><text style=color:#000;background-color:#85c2e1>i </text><text style=color:#000;background-color:#85c2e1>n </text><text style=color:#000;background-color:#85c2e1>e </text>"
            ]
          },
          "metadata": {}
        },
        {
          "output_type": "stream",
          "name": "stdout",
          "text": [
            "Actual Word: semen\n",
            "Transliterated Word: स्राल\n",
            "Visualization for स :\n"
          ]
        },
        {
          "output_type": "display_data",
          "data": {
            "text/plain": [
              "<IPython.core.display.HTML object>"
            ],
            "text/html": [
              "<text style=color:#000;background-color:#f42e2e>s </text><text style=color:#000;background-color:#f34343>e </text><text style=color:#000;background-color:#f9d4d4>m </text><text style=color:#000;background-color:#c2e1f0>e </text><text style=color:#000;background-color:#85c2e1>n </text>"
            ]
          },
          "metadata": {}
        },
        {
          "output_type": "stream",
          "name": "stdout",
          "text": [
            "Visualization for ् :\n"
          ]
        },
        {
          "output_type": "display_data",
          "data": {
            "text/plain": [
              "<IPython.core.display.HTML object>"
            ],
            "text/html": [
              "<text style=color:#000;background-color:#85c2e1>s </text><text style=color:#000;background-color:#f9d4d4>e </text><text style=color:#000;background-color:#99cce6>m </text><text style=color:#000;background-color:#f42e2e>e </text><text style=color:#000;background-color:#f34343>n </text>"
            ]
          },
          "metadata": {}
        },
        {
          "output_type": "stream",
          "name": "stdout",
          "text": [
            "Visualization for र :\n"
          ]
        },
        {
          "output_type": "display_data",
          "data": {
            "text/plain": [
              "<IPython.core.display.HTML object>"
            ],
            "text/html": [
              "<text style=color:#000;background-color:#85c2e1>s </text><text style=color:#000;background-color:#85c2e1>e </text><text style=color:#000;background-color:#85c2e1>m </text><text style=color:#000;background-color:#85c2e1>e </text><text style=color:#000;background-color:#85c2e1>n </text>"
            ]
          },
          "metadata": {}
        },
        {
          "output_type": "stream",
          "name": "stdout",
          "text": [
            "Visualization for ा :\n"
          ]
        },
        {
          "output_type": "display_data",
          "data": {
            "text/plain": [
              "<IPython.core.display.HTML object>"
            ],
            "text/html": [
              "<text style=color:#000;background-color:#85c2e1>s </text><text style=color:#000;background-color:#85c2e1>e </text><text style=color:#000;background-color:#85c2e1>m </text><text style=color:#000;background-color:#85c2e1>e </text><text style=color:#000;background-color:#85c2e1>n </text>"
            ]
          },
          "metadata": {}
        },
        {
          "output_type": "stream",
          "name": "stdout",
          "text": [
            "Visualization for ल :\n"
          ]
        },
        {
          "output_type": "display_data",
          "data": {
            "text/plain": [
              "<IPython.core.display.HTML object>"
            ],
            "text/html": [
              "<text style=color:#000;background-color:#85c2e1>s </text><text style=color:#000;background-color:#85c2e1>e </text><text style=color:#000;background-color:#85c2e1>m </text><text style=color:#000;background-color:#85c2e1>e </text><text style=color:#000;background-color:#85c2e1>n </text>"
            ]
          },
          "metadata": {}
        },
        {
          "output_type": "stream",
          "name": "stdout",
          "text": [
            "Actual Word: pahno\n",
            "Transliterated Word: बाला\n",
            "Visualization for ब :\n"
          ]
        },
        {
          "output_type": "display_data",
          "data": {
            "text/plain": [
              "<IPython.core.display.HTML object>"
            ],
            "text/html": [
              "<text style=color:#000;background-color:#f42e2e>p </text><text style=color:#000;background-color:#f45f5f>a </text><text style=color:#000;background-color:#f9e8e8>h </text><text style=color:#000;background-color:#a1d0e8#b2d9ec>n </text><text style=color:#000;background-color:#85c2e1>o </text>"
            ]
          },
          "metadata": {}
        },
        {
          "output_type": "stream",
          "name": "stdout",
          "text": [
            "Visualization for ा :\n"
          ]
        },
        {
          "output_type": "display_data",
          "data": {
            "text/plain": [
              "<IPython.core.display.HTML object>"
            ],
            "text/html": [
              "<text style=color:#000;background-color:#85c2e1>p </text><text style=color:#000;background-color:#f42e2e>a </text><text style=color:#000;background-color:#85c2e1>h </text><text style=color:#000;background-color:#89c4e2>n </text><text style=color:#000;background-color:#c2e1f0>o </text>"
            ]
          },
          "metadata": {}
        },
        {
          "output_type": "stream",
          "name": "stdout",
          "text": [
            "Visualization for ल :\n"
          ]
        },
        {
          "output_type": "display_data",
          "data": {
            "text/plain": [
              "<IPython.core.display.HTML object>"
            ],
            "text/html": [
              "<text style=color:#000;background-color:#85c2e1>p </text><text style=color:#000;background-color:#85c2e1>a </text><text style=color:#000;background-color:#85c2e1>h </text><text style=color:#000;background-color:#85c2e1>n </text><text style=color:#000;background-color:#85c2e1>o </text>"
            ]
          },
          "metadata": {}
        },
        {
          "output_type": "stream",
          "name": "stdout",
          "text": [
            "Visualization for ा :\n"
          ]
        },
        {
          "output_type": "display_data",
          "data": {
            "text/plain": [
              "<IPython.core.display.HTML object>"
            ],
            "text/html": [
              "<text style=color:#000;background-color:#85c2e1>p </text><text style=color:#000;background-color:#85c2e1>a </text><text style=color:#000;background-color:#85c2e1>h </text><text style=color:#000;background-color:#85c2e1>n </text><text style=color:#000;background-color:#85c2e1>o </text>"
            ]
          },
          "metadata": {}
        },
        {
          "output_type": "stream",
          "name": "stdout",
          "text": [
            "Actual Word: safety\n",
            "Transliterated Word: स्राली\n",
            "Visualization for स :\n"
          ]
        },
        {
          "output_type": "display_data",
          "data": {
            "text/plain": [
              "<IPython.core.display.HTML object>"
            ],
            "text/html": [
              "<text style=color:#000;background-color:#f42e2e>s </text><text style=color:#000;background-color:#f34343>a </text><text style=color:#000;background-color:#f9bdbd>f </text><text style=color:#000;background-color:#f9e8e8>e </text><text style=color:#000;background-color:#99cce6>t </text><text style=color:#000;background-color:#85c2e1>y </text>"
            ]
          },
          "metadata": {}
        },
        {
          "output_type": "stream",
          "name": "stdout",
          "text": [
            "Visualization for ् :\n"
          ]
        },
        {
          "output_type": "display_data",
          "data": {
            "text/plain": [
              "<IPython.core.display.HTML object>"
            ],
            "text/html": [
              "<text style=color:#000;background-color:#85c2e1>s </text><text style=color:#000;background-color:#f9e8e8>a </text><text style=color:#000;background-color:#89c4e2>f </text><text style=color:#000;background-color:#c2e1f0>e </text><text style=color:#000;background-color:#99cce6>t </text><text style=color:#000;background-color:#f42e2e>y </text>"
            ]
          },
          "metadata": {}
        },
        {
          "output_type": "stream",
          "name": "stdout",
          "text": [
            "Visualization for र :\n"
          ]
        },
        {
          "output_type": "display_data",
          "data": {
            "text/plain": [
              "<IPython.core.display.HTML object>"
            ],
            "text/html": [
              "<text style=color:#000;background-color:#85c2e1>s </text><text style=color:#000;background-color:#85c2e1>a </text><text style=color:#000;background-color:#85c2e1>f </text><text style=color:#000;background-color:#85c2e1>e </text><text style=color:#000;background-color:#85c2e1>t </text><text style=color:#000;background-color:#85c2e1>y </text>"
            ]
          },
          "metadata": {}
        },
        {
          "output_type": "stream",
          "name": "stdout",
          "text": [
            "Visualization for ा :\n"
          ]
        },
        {
          "output_type": "display_data",
          "data": {
            "text/plain": [
              "<IPython.core.display.HTML object>"
            ],
            "text/html": [
              "<text style=color:#000;background-color:#85c2e1>s </text><text style=color:#000;background-color:#85c2e1>a </text><text style=color:#000;background-color:#85c2e1>f </text><text style=color:#000;background-color:#85c2e1>e </text><text style=color:#000;background-color:#85c2e1>t </text><text style=color:#000;background-color:#85c2e1>y </text>"
            ]
          },
          "metadata": {}
        },
        {
          "output_type": "stream",
          "name": "stdout",
          "text": [
            "Visualization for ल :\n"
          ]
        },
        {
          "output_type": "display_data",
          "data": {
            "text/plain": [
              "<IPython.core.display.HTML object>"
            ],
            "text/html": [
              "<text style=color:#000;background-color:#85c2e1>s </text><text style=color:#000;background-color:#85c2e1>a </text><text style=color:#000;background-color:#85c2e1>f </text><text style=color:#000;background-color:#85c2e1>e </text><text style=color:#000;background-color:#85c2e1>t </text><text style=color:#000;background-color:#85c2e1>y </text>"
            ]
          },
          "metadata": {}
        },
        {
          "output_type": "stream",
          "name": "stdout",
          "text": [
            "Visualization for ी :\n"
          ]
        },
        {
          "output_type": "display_data",
          "data": {
            "text/plain": [
              "<IPython.core.display.HTML object>"
            ],
            "text/html": [
              "<text style=color:#000;background-color:#85c2e1>s </text><text style=color:#000;background-color:#85c2e1>a </text><text style=color:#000;background-color:#85c2e1>f </text><text style=color:#000;background-color:#85c2e1>e </text><text style=color:#000;background-color:#85c2e1>t </text><text style=color:#000;background-color:#85c2e1>y </text>"
            ]
          },
          "metadata": {}
        }
      ],
      "source": [
        "for word in test_words:\n",
        "    visualise_connectivity(model, word, activation=\"scaler\")"
      ]
    },
    {
      "cell_type": "code",
      "execution_count": 76,
      "metadata": {
        "colab": {
          "base_uri": "https://localhost:8080/"
        },
        "id": "_E9pUPNGndTS",
        "outputId": "e1f6dd2d-0c78-4774-bb5a-41014832d2c4"
      },
      "outputs": [
        {
          "output_type": "stream",
          "name": "stdout",
          "text": [
            "Arbitrarily evaluating the model on 5 words\n",
            "\n",
            "Input word: cheh\n",
            "Actual translation of the word: छह\n",
            "Model translation of the word:  बाल\n",
            "\n",
            "Input word: sheling\n",
            "Actual translation of the word: शेलिंग\n",
            "Model translation of the word:  अंग्राल\n",
            "\n",
            "Input word: pammu\n",
            "Actual translation of the word: पम्मी\n",
            "Model translation of the word:  स्राल\n",
            "\n",
            "Input word: nikalegi\n",
            "Actual translation of the word: निकलेगी\n",
            "Model translation of the word:  अनार्यां\n",
            "\n",
            "Input word: ilaaj\n",
            "Actual translation of the word: इलाज\n",
            "Model translation of the word:  आलाल\n",
            "\n"
          ]
        }
      ],
      "source": [
        "Evaluating_Random_words(model, n=5)"
      ]
    },
    {
      "cell_type": "markdown",
      "metadata": {
        "id": "EVjQ4r9f1Xoz"
      },
      "source": [
        "# WandB Run"
      ]
    },
    {
      "cell_type": "code",
      "execution_count": 64,
      "metadata": {
        "colab": {
          "base_uri": "https://localhost:8080/"
        },
        "id": "rYADdILDERar",
        "outputId": "cbbecd8a-e4d3-4e0c-b825-41f527fa41a9"
      },
      "outputs": [
        {
          "output_type": "execute_result",
          "data": {
            "text/plain": [
              "True"
            ]
          },
          "metadata": {},
          "execution_count": 64
        }
      ],
      "source": [
        "wandb.login()"
      ]
    },
    {
      "cell_type": "code",
      "execution_count": 65,
      "metadata": {
        "id": "y_FiH40wgm0i"
      },
      "outputs": [],
      "source": [
        "def Train_Our_Model(lang, test_beam_search=False):\n",
        "\n",
        "    config_defaults = {\"embeded_dim\": 64, \n",
        "                       \"Teacher_forcing_ratio\": 1.0,\n",
        "                       \"type_of_Layer\": \"lstm\",\n",
        "                       \"decorder_encoder_layers\": 1,\n",
        "                       \"units\": 128,\n",
        "                       \"dropout\": 0.1,\n",
        "                       \"Attention\": False,\n",
        "                       \"Beam_width\": 3,\n",
        "                       \"epochs\":15\n",
        "                       }\n",
        "\n",
        "    wandb.init(config=config_defaults, project=\"CS6910_VM_Assignment_132\", resume=True)\n",
        "\n",
        "    ## 1. SELECT lang ##\n",
        "    TRAIN_TSV, VAL_TSV, TEST_TSV = creating_data(lang)\n",
        "\n",
        "\n",
        "    ## 2. DATA PREPROCESSING ##\n",
        "    dataframe = pd.read_csv(TRAIN_TSV, sep=\"\\t\", header=None)\n",
        "    def add_tokens(s, sos=\"\\t\", eos=\"\\n\"):  \n",
        "        return sos + str(s) + eos    \n",
        "    cols = [0,1]\n",
        "    for col in cols:\n",
        "        dataframe[col] = dataframe[col].apply(add_tokens)\n",
        "    \n",
        "    tokenizer = None\n",
        "    if tokenizer is None:\n",
        "        tokenizer = Tokenizer(char_level=True)\n",
        "        tokenizer.fit_on_texts(dataframe[1].astype(str).tolist())\n",
        "    lang_tensor = tokenizer.texts_to_sequences(dataframe[1].astype(str).tolist())\n",
        "    lang_tensor = tf.keras.preprocessing.sequence.pad_sequences(lang_tensor,padding='post')      \n",
        "    input_lang_tensor, input_tokenizer = lang_tensor, tokenizer\n",
        "\n",
        "    tokenizer = None\n",
        "    if tokenizer is None:\n",
        "        tokenizer = Tokenizer(char_level=True)\n",
        "        tokenizer.fit_on_texts(dataframe[0].astype(str).tolist())\n",
        "    lang_tensor = tokenizer.texts_to_sequences(dataframe[0].astype(str).tolist())\n",
        "    lang_tensor = tf.keras.preprocessing.sequence.pad_sequences(lang_tensor,padding='post')\n",
        "\n",
        "    targ_lang_tensor, targ_tokenizer = lang_tensor, tokenizer\n",
        "    dataset = tf.data.Dataset.from_tensor_slices((input_lang_tensor, targ_lang_tensor))\n",
        "    dataset = dataset.shuffle(len(dataset))    \n",
        "    \n",
        "    dataframe = pd.read_csv(VAL_TSV, sep=\"\\t\", header=None)\n",
        "    def add_tokens(s, sos=\"\\t\", eos=\"\\n\"):  \n",
        "        return sos + str(s) + eos    \n",
        "    cols = [0,1]\n",
        "    for col in cols:\n",
        "        dataframe[col] = dataframe[col].apply(add_tokens)\n",
        "    lang_tensor = tokenizer.texts_to_sequences(dataframe[1].astype(str).tolist())\n",
        "    lang_tensor = tf.keras.preprocessing.sequence.pad_sequences(lang_tensor,padding='post')    \n",
        "    input_lang_tensor = lang_tensor\n",
        "\n",
        "    lang_tensor = tokenizer.texts_to_sequences(dataframe[0].astype(str).tolist())\n",
        "    lang_tensor = tf.keras.preprocessing.sequence.pad_sequences(lang_tensor,padding='post')\n",
        "    targ_lang_tensor = lang_tensor\n",
        "    val_dataset = tf.data.Dataset.from_tensor_slices((input_lang_tensor, targ_lang_tensor))\n",
        "    val_dataset = dataset.shuffle(len(val_dataset))\n",
        "\n",
        "    ## 3. CREATING THE MODEL ##\n",
        "    model = Seq2SeqModel(embed_dim=wandb.config.embeded_dim,enc_layers=wandb.config.decorder_encoder_layers,dec_layers=wandb.config.decorder_encoder_layers, type_layer=wandb.config.type_of_Layer, units=wandb.config.units,dropout=wandb.config.dropout,loss=tf.keras.losses.SparseCategoricalCrossentropy(),optimizer = tf.keras.optimizers.Adam(),metric = tf.keras.metrics.SparseCategoricalAccuracy(),attention=wandb.config.Attention)                                                                                                                                                    \n",
        "    ## 4. COMPILING THE MODEL \n",
        "    model.input_tokenizer = input_tokenizer\n",
        "    model.targ_tokenizer = targ_tokenizer\n",
        "    model.create_model()\n",
        "    \n",
        "    \n",
        "    ## 5. FITTING AND VALIDATING THE MODEL\n",
        "    model.fit(dataset, val_dataset, epochs=wandb.config.epochs, use_wandb=True, teacher_forcing_ratio=wandb.config.Teacher_forcing_ratio)\n",
        "\n",
        "    if test_beam_search:\n",
        "        ## OPTIONAL :- Evaluate the dataset using beam search and without beam search\n",
        "        val_dataset, _, _ = preprocess_data(val_dataset, model.input_tokenizer, model.targ_tokenizer)\n",
        "        subset = val_dataset.take(500)\n",
        "\n",
        "        # a) Without beam search\n",
        "        _, test_acc_without = model.evaluate(subset, batch_size=100) \n",
        "        wandb.log({\"Test acc\": test_acc_without})\n",
        "        \n",
        "        # b) With beam search\n",
        "        beam_search = BeamSearch(model=model, k=wandb.config.beam_width)\n",
        "        beam_search.evaluate(subset, batch_size=100, use_wandb=True)"
      ]
    },
    {
      "cell_type": "markdown",
      "metadata": {
        "id": "3TIsyV5QF0M7"
      },
      "source": [
        "# Sweeps with and without Attention"
      ]
    },
    {
      "cell_type": "code",
      "execution_count": 66,
      "metadata": {
        "id": "byYn_WLZMQ5i"
      },
      "outputs": [],
      "source": [
        "sweep_config = {\n",
        "  \"name\": \"Sweep_Assignment3\",\n",
        "  \"method\": \"random\",\n",
        "  \"parameters\": {\n",
        "        \"decorder_encoder_layers\": {\n",
        "           \"values\": [1, 2, 3]\n",
        "        },\n",
        "        \"units\": {\n",
        "            \"values\": [64, 128, 256]\n",
        "        },\n",
        "        \"type_of_Layer\": {\n",
        "            \"values\": [\"gru\", \"rnn\",\"lstm\"]\n",
        "        },\n",
        "         \"embeded_dim\": {\n",
        "            \"values\": [256,64, 128]\n",
        "        },\n",
        "        \"dropout\": {\n",
        "            \"values\": [0.29, 0.37]\n",
        "        },\n",
        "        \"Beam_width\": {\n",
        "            \"values\": [3, 7, 5]\n",
        "        },\n",
        "        \"Teacher_forcing_ratio\": {\n",
        "            \"values\": [0.9, 0.5,0.2]\n",
        "        },\n",
        "        \"Attention\": {\n",
        "            \"values\": [True,False]\n",
        "        },\n",
        "        \"epochs\":{\n",
        "            \"values\":[10,20,30]\n",
        "        }\n",
        "\n",
        "    }\n",
        "}"
      ]
    },
    {
      "cell_type": "code",
      "execution_count": 19,
      "metadata": {
        "colab": {
          "base_uri": "https://localhost:8080/"
        },
        "id": "h25tYWs4T3wV",
        "outputId": "f3f24fd6-0877-45f2-c4e9-a4134ddf6414"
      },
      "outputs": [
        {
          "output_type": "stream",
          "name": "stdout",
          "text": [
            "Create sweep with ID: dkj9y1c0\n",
            "Sweep URL: https://wandb.ai/manishiitm/CS6910_VM_Assignment_132/sweeps/dkj9y1c0\n"
          ]
        }
      ],
      "source": [
        "sweep_id = wandb.sweep(sweep_config, project=\"CS6910_VM_Assignment_132\")"
      ]
    },
    {
      "cell_type": "code",
      "execution_count": 67,
      "metadata": {
        "colab": {
          "base_uri": "https://localhost:8080/",
          "height": 677
        },
        "id": "-70hy-l9UAa9",
        "outputId": "e1194855-7e98-4481-c8f5-9e77371550a2"
      },
      "outputs": [
        {
          "output_type": "stream",
          "name": "stderr",
          "text": [
            "\u001b[34m\u001b[1mwandb\u001b[0m: Agent Starting Run: 350ic9ot with config:\n",
            "\u001b[34m\u001b[1mwandb\u001b[0m: \tAttention: True\n",
            "\u001b[34m\u001b[1mwandb\u001b[0m: \tBeam_width: 3\n",
            "\u001b[34m\u001b[1mwandb\u001b[0m: \tTeacher_forcing_ratio: 0.2\n",
            "\u001b[34m\u001b[1mwandb\u001b[0m: \tdecorder_encoder_layers: 3\n",
            "\u001b[34m\u001b[1mwandb\u001b[0m: \tdropout: 0.37\n",
            "\u001b[34m\u001b[1mwandb\u001b[0m: \tembeded_dim: 64\n",
            "\u001b[34m\u001b[1mwandb\u001b[0m: \tepochs: 20\n",
            "\u001b[34m\u001b[1mwandb\u001b[0m: \ttype_of_Layer: gru\n",
            "\u001b[34m\u001b[1mwandb\u001b[0m: \tunits: 64\n",
            "\u001b[34m\u001b[1mwandb\u001b[0m: \u001b[33mWARNING\u001b[0m Ignored wandb.init() arg project when running a sweep.\n",
            "\u001b[34m\u001b[1mwandb\u001b[0m: \u001b[33mWARNING\u001b[0m Tried to auto resume run with id ngxitdn2 but id 350ic9ot is set.\n"
          ]
        },
        {
          "output_type": "display_data",
          "data": {
            "text/plain": [
              "<IPython.core.display.HTML object>"
            ],
            "text/html": [
              "Tracking run with wandb version 0.12.16"
            ]
          },
          "metadata": {}
        },
        {
          "output_type": "display_data",
          "data": {
            "text/plain": [
              "<IPython.core.display.HTML object>"
            ],
            "text/html": [
              "Run data is saved locally in <code>/content/wandb/run-20220508_135259-350ic9ot</code>"
            ]
          },
          "metadata": {}
        },
        {
          "output_type": "display_data",
          "data": {
            "text/plain": [
              "<IPython.core.display.HTML object>"
            ],
            "text/html": [
              "Resuming run <strong><a href=\"https://wandb.ai/manishiitm/CS6910_VM_Assignment_132/runs/350ic9ot\" target=\"_blank\">absurd-sweep-8</a></strong> to <a href=\"https://wandb.ai/manishiitm/CS6910_VM_Assignment_132\" target=\"_blank\">Weights & Biases</a> (<a href=\"https://wandb.me/run\" target=\"_blank\">docs</a>)<br/>Sweep page:  <a href=\"https://wandb.ai/manishiitm/CS6910_VM_Assignment_132/sweeps/dkj9y1c0\" target=\"_blank\">https://wandb.ai/manishiitm/CS6910_VM_Assignment_132/sweeps/dkj9y1c0</a>"
            ]
          },
          "metadata": {}
        },
        {
          "output_type": "stream",
          "name": "stdout",
          "text": [
            "------------------------------------------------------------------------------------------------------------------------------------------\n",
            "EPOCH 1\n",
            "\n",
            "Training .....\n",
            "\n",
            "Batch 1 Loss 3.9941\n",
            "Batch 100 Loss 1.1687\n",
            "Batch 200 Loss 1.0621\n",
            "Batch 300 Loss 1.0237\n",
            "\n",
            "Validating ...\n",
            "\n",
            "Train Loss: 1.2659486532211304 Train Accuracy: 65.74872589111328 Validation Loss: 1.4097137451171875 Validation Accuracy: 66.03125\n",
            "\n",
            "Time taken for the epoch 126.6057\n",
            "------------------------------------------------------------------------------------------------------------------------------------------\n",
            "EPOCH 2\n",
            "\n",
            "Training .....\n",
            "\n",
            "Batch 1 Loss 0.9531\n"
          ]
        },
        {
          "output_type": "stream",
          "name": "stderr",
          "text": [
            "\u001b[34m\u001b[1mwandb\u001b[0m: Ctrl + C detected. Stopping sweep.\n"
          ]
        }
      ],
      "source": [
        "wandb.agent(sweep_id, function=lambda: Train_Our_Model(\"hi\"))"
      ]
    },
    {
      "cell_type": "markdown",
      "source": [
        "### Question-8 finetune the GPT2 model to generate lyrics for English songs"
      ],
      "metadata": {
        "id": "k-2aNwCNVb9v"
      }
    },
    {
      "cell_type": "code",
      "source": [
        "!pip install transformers"
      ],
      "metadata": {
        "colab": {
          "base_uri": "https://localhost:8080/",
          "height": 851
        },
        "id": "4ytNGwjhVauD",
        "outputId": "5b83c4f5-f46c-4282-b37b-c69a84247424"
      },
      "execution_count": 94,
      "outputs": [
        {
          "output_type": "stream",
          "name": "stdout",
          "text": [
            "Collecting transformers\n",
            "  Downloading transformers-4.18.0-py3-none-any.whl (4.0 MB)\n",
            "\u001b[K     |████████████████████████████████| 4.0 MB 31.2 MB/s \n",
            "\u001b[?25hRequirement already satisfied: numpy>=1.17 in /usr/local/lib/python3.7/dist-packages (from transformers) (1.21.6)\n",
            "Requirement already satisfied: tqdm>=4.27 in /usr/local/lib/python3.7/dist-packages (from transformers) (4.64.0)\n",
            "Collecting tokenizers!=0.11.3,<0.13,>=0.11.1\n",
            "  Downloading tokenizers-0.12.1-cp37-cp37m-manylinux_2_12_x86_64.manylinux2010_x86_64.whl (6.6 MB)\n",
            "\u001b[K     |████████████████████████████████| 6.6 MB 66.1 MB/s \n",
            "\u001b[?25hCollecting pyyaml>=5.1\n",
            "  Downloading PyYAML-6.0-cp37-cp37m-manylinux_2_5_x86_64.manylinux1_x86_64.manylinux_2_12_x86_64.manylinux2010_x86_64.whl (596 kB)\n",
            "\u001b[K     |████████████████████████████████| 596 kB 63.3 MB/s \n",
            "\u001b[?25hCollecting huggingface-hub<1.0,>=0.1.0\n",
            "  Downloading huggingface_hub-0.5.1-py3-none-any.whl (77 kB)\n",
            "\u001b[K     |████████████████████████████████| 77 kB 8.6 MB/s \n",
            "\u001b[?25hRequirement already satisfied: regex!=2019.12.17 in /usr/local/lib/python3.7/dist-packages (from transformers) (2019.12.20)\n",
            "Requirement already satisfied: requests in /usr/local/lib/python3.7/dist-packages (from transformers) (2.23.0)\n",
            "Requirement already satisfied: importlib-metadata in /usr/local/lib/python3.7/dist-packages (from transformers) (4.11.3)\n",
            "Collecting sacremoses\n",
            "  Downloading sacremoses-0.0.53.tar.gz (880 kB)\n",
            "\u001b[K     |████████████████████████████████| 880 kB 62.9 MB/s \n",
            "\u001b[?25hRequirement already satisfied: packaging>=20.0 in /usr/local/lib/python3.7/dist-packages (from transformers) (21.3)\n",
            "Requirement already satisfied: filelock in /usr/local/lib/python3.7/dist-packages (from transformers) (3.6.0)\n",
            "Requirement already satisfied: typing-extensions>=3.7.4.3 in /usr/local/lib/python3.7/dist-packages (from huggingface-hub<1.0,>=0.1.0->transformers) (4.2.0)\n",
            "Requirement already satisfied: pyparsing!=3.0.5,>=2.0.2 in /usr/local/lib/python3.7/dist-packages (from packaging>=20.0->transformers) (3.0.8)\n",
            "Requirement already satisfied: zipp>=0.5 in /usr/local/lib/python3.7/dist-packages (from importlib-metadata->transformers) (3.8.0)\n",
            "Requirement already satisfied: certifi>=2017.4.17 in /usr/local/lib/python3.7/dist-packages (from requests->transformers) (2021.10.8)\n",
            "Requirement already satisfied: urllib3!=1.25.0,!=1.25.1,<1.26,>=1.21.1 in /usr/local/lib/python3.7/dist-packages (from requests->transformers) (1.24.3)\n",
            "Requirement already satisfied: chardet<4,>=3.0.2 in /usr/local/lib/python3.7/dist-packages (from requests->transformers) (3.0.4)\n",
            "Requirement already satisfied: idna<3,>=2.5 in /usr/local/lib/python3.7/dist-packages (from requests->transformers) (2.10)\n",
            "Requirement already satisfied: six in /usr/local/lib/python3.7/dist-packages (from sacremoses->transformers) (1.15.0)\n",
            "Requirement already satisfied: click in /usr/local/lib/python3.7/dist-packages (from sacremoses->transformers) (7.1.2)\n",
            "Requirement already satisfied: joblib in /usr/local/lib/python3.7/dist-packages (from sacremoses->transformers) (1.1.0)\n",
            "Building wheels for collected packages: sacremoses\n",
            "  Building wheel for sacremoses (setup.py) ... \u001b[?25l\u001b[?25hdone\n",
            "  Created wheel for sacremoses: filename=sacremoses-0.0.53-py3-none-any.whl size=895260 sha256=f85ab7a9767afb455ae09cdbbcd4a127804ccd4a1dfc7be1671da7870f55ccb5\n",
            "  Stored in directory: /root/.cache/pip/wheels/87/39/dd/a83eeef36d0bf98e7a4d1933a4ad2d660295a40613079bafc9\n",
            "Successfully built sacremoses\n",
            "Installing collected packages: pyyaml, tokenizers, sacremoses, huggingface-hub, transformers\n",
            "  Attempting uninstall: pyyaml\n",
            "    Found existing installation: PyYAML 3.13\n",
            "    Uninstalling PyYAML-3.13:\n",
            "      Successfully uninstalled PyYAML-3.13\n",
            "Successfully installed huggingface-hub-0.5.1 pyyaml-6.0 sacremoses-0.0.53 tokenizers-0.12.1 transformers-4.18.0\n"
          ]
        },
        {
          "output_type": "display_data",
          "data": {
            "application/vnd.colab-display-data+json": {
              "pip_warning": {
                "packages": [
                  "yaml"
                ]
              }
            }
          },
          "metadata": {}
        }
      ]
    },
    {
      "cell_type": "markdown",
      "source": [
        "###Import all Library"
      ],
      "metadata": {
        "id": "ce5CQ9diVyEW"
      }
    },
    {
      "cell_type": "code",
      "source": [
        "import pandas as pd\n",
        "from transformers import GPT2LMHeadModel, GPT2Tokenizer\n",
        "import numpy as np\n",
        "import random\n",
        "import torch\n",
        "from torch.utils.data import Dataset, DataLoader\n",
        "from transformers import GPT2Tokenizer, GPT2LMHeadModel, AdamW, get_linear_schedule_with_warmup\n",
        "from tqdm import tqdm, trange\n",
        "import torch.nn.functional as F\n",
        "import csv"
      ],
      "metadata": {
        "id": "8IX3v9-2V1wl"
      },
      "execution_count": 95,
      "outputs": []
    },
    {
      "cell_type": "markdown",
      "source": [
        "### Read CSV File"
      ],
      "metadata": {
        "id": "RedKLDq4V49O"
      }
    },
    {
      "cell_type": "code",
      "source": [
        "df = pd.read_csv(\"/content/genius_hip_hop_lyrics.csv\",encoding = 'unicode_escape', engine ='python')\n",
        "df.head()"
      ],
      "metadata": {
        "colab": {
          "base_uri": "https://localhost:8080/",
          "height": 337
        },
        "id": "zSYbHSJ5V7iG",
        "outputId": "794782a4-715d-49bd-bc16-b47ecd07c96f"
      },
      "execution_count": 96,
      "outputs": [
        {
          "output_type": "execute_result",
          "data": {
            "text/plain": [
              "   id      candidate             song       artist sentiment      theme  \\\n",
              "0   1  Mike Huckabee  None Shall Pass   Aesop Rock   neutral        NaN   \n",
              "1   2  Mike Huckabee        Wellstone    Soul Khan  negative        NaN   \n",
              "2   3       Jeb Bush              Awe   Dez & Nobs   neutral        NaN   \n",
              "3   4       Jeb Bush        The Truth     Diabolic  negative  political   \n",
              "4   5       Jeb Bush        Money Man  Gorilla Zoe  negative   personal   \n",
              "\n",
              "   album_release_date                                               line  \\\n",
              "0                2011  Wither by the watering hole, Border patrol / W...   \n",
              "1                2012  Might find the door but never touch the key / ...   \n",
              "2                2006         I heard Jeb Bush looking for a (inaudible)   \n",
              "3                2006  What you heard before ain't as big of a lesson...   \n",
              "4                2007  I'm comin back from Florida / Wit Jeb Bush and...   \n",
              "\n",
              "                                                 url  \n",
              "0  http://genius.com/Aesop-rock-none-shall-pass-l...  \n",
              "1       http://genius.com/Soul-khan-wellstone-lyrics  \n",
              "2          http://genius.com/Dez-and-nobs-awe-lyrics  \n",
              "3        http://genius.com/Diabolic-the-truth-lyrics  \n",
              "4     http://genius.com/Gorilla-zoe-money-man-lyrics  "
            ],
            "text/html": [
              "\n",
              "  <div id=\"df-8b86a071-58dd-4c59-9c25-863bcef24d30\">\n",
              "    <div class=\"colab-df-container\">\n",
              "      <div>\n",
              "<style scoped>\n",
              "    .dataframe tbody tr th:only-of-type {\n",
              "        vertical-align: middle;\n",
              "    }\n",
              "\n",
              "    .dataframe tbody tr th {\n",
              "        vertical-align: top;\n",
              "    }\n",
              "\n",
              "    .dataframe thead th {\n",
              "        text-align: right;\n",
              "    }\n",
              "</style>\n",
              "<table border=\"1\" class=\"dataframe\">\n",
              "  <thead>\n",
              "    <tr style=\"text-align: right;\">\n",
              "      <th></th>\n",
              "      <th>id</th>\n",
              "      <th>candidate</th>\n",
              "      <th>song</th>\n",
              "      <th>artist</th>\n",
              "      <th>sentiment</th>\n",
              "      <th>theme</th>\n",
              "      <th>album_release_date</th>\n",
              "      <th>line</th>\n",
              "      <th>url</th>\n",
              "    </tr>\n",
              "  </thead>\n",
              "  <tbody>\n",
              "    <tr>\n",
              "      <th>0</th>\n",
              "      <td>1</td>\n",
              "      <td>Mike Huckabee</td>\n",
              "      <td>None Shall Pass</td>\n",
              "      <td>Aesop Rock</td>\n",
              "      <td>neutral</td>\n",
              "      <td>NaN</td>\n",
              "      <td>2011</td>\n",
              "      <td>Wither by the watering hole, Border patrol / W...</td>\n",
              "      <td>http://genius.com/Aesop-rock-none-shall-pass-l...</td>\n",
              "    </tr>\n",
              "    <tr>\n",
              "      <th>1</th>\n",
              "      <td>2</td>\n",
              "      <td>Mike Huckabee</td>\n",
              "      <td>Wellstone</td>\n",
              "      <td>Soul Khan</td>\n",
              "      <td>negative</td>\n",
              "      <td>NaN</td>\n",
              "      <td>2012</td>\n",
              "      <td>Might find the door but never touch the key / ...</td>\n",
              "      <td>http://genius.com/Soul-khan-wellstone-lyrics</td>\n",
              "    </tr>\n",
              "    <tr>\n",
              "      <th>2</th>\n",
              "      <td>3</td>\n",
              "      <td>Jeb Bush</td>\n",
              "      <td>Awe</td>\n",
              "      <td>Dez &amp; Nobs</td>\n",
              "      <td>neutral</td>\n",
              "      <td>NaN</td>\n",
              "      <td>2006</td>\n",
              "      <td>I heard Jeb Bush looking for a (inaudible)</td>\n",
              "      <td>http://genius.com/Dez-and-nobs-awe-lyrics</td>\n",
              "    </tr>\n",
              "    <tr>\n",
              "      <th>3</th>\n",
              "      <td>4</td>\n",
              "      <td>Jeb Bush</td>\n",
              "      <td>The Truth</td>\n",
              "      <td>Diabolic</td>\n",
              "      <td>negative</td>\n",
              "      <td>political</td>\n",
              "      <td>2006</td>\n",
              "      <td>What you heard before ain't as big of a lesson...</td>\n",
              "      <td>http://genius.com/Diabolic-the-truth-lyrics</td>\n",
              "    </tr>\n",
              "    <tr>\n",
              "      <th>4</th>\n",
              "      <td>5</td>\n",
              "      <td>Jeb Bush</td>\n",
              "      <td>Money Man</td>\n",
              "      <td>Gorilla Zoe</td>\n",
              "      <td>negative</td>\n",
              "      <td>personal</td>\n",
              "      <td>2007</td>\n",
              "      <td>I'm comin back from Florida / Wit Jeb Bush and...</td>\n",
              "      <td>http://genius.com/Gorilla-zoe-money-man-lyrics</td>\n",
              "    </tr>\n",
              "  </tbody>\n",
              "</table>\n",
              "</div>\n",
              "      <button class=\"colab-df-convert\" onclick=\"convertToInteractive('df-8b86a071-58dd-4c59-9c25-863bcef24d30')\"\n",
              "              title=\"Convert this dataframe to an interactive table.\"\n",
              "              style=\"display:none;\">\n",
              "        \n",
              "  <svg xmlns=\"http://www.w3.org/2000/svg\" height=\"24px\"viewBox=\"0 0 24 24\"\n",
              "       width=\"24px\">\n",
              "    <path d=\"M0 0h24v24H0V0z\" fill=\"none\"/>\n",
              "    <path d=\"M18.56 5.44l.94 2.06.94-2.06 2.06-.94-2.06-.94-.94-2.06-.94 2.06-2.06.94zm-11 1L8.5 8.5l.94-2.06 2.06-.94-2.06-.94L8.5 2.5l-.94 2.06-2.06.94zm10 10l.94 2.06.94-2.06 2.06-.94-2.06-.94-.94-2.06-.94 2.06-2.06.94z\"/><path d=\"M17.41 7.96l-1.37-1.37c-.4-.4-.92-.59-1.43-.59-.52 0-1.04.2-1.43.59L10.3 9.45l-7.72 7.72c-.78.78-.78 2.05 0 2.83L4 21.41c.39.39.9.59 1.41.59.51 0 1.02-.2 1.41-.59l7.78-7.78 2.81-2.81c.8-.78.8-2.07 0-2.86zM5.41 20L4 18.59l7.72-7.72 1.47 1.35L5.41 20z\"/>\n",
              "  </svg>\n",
              "      </button>\n",
              "      \n",
              "  <style>\n",
              "    .colab-df-container {\n",
              "      display:flex;\n",
              "      flex-wrap:wrap;\n",
              "      gap: 12px;\n",
              "    }\n",
              "\n",
              "    .colab-df-convert {\n",
              "      background-color: #E8F0FE;\n",
              "      border: none;\n",
              "      border-radius: 50%;\n",
              "      cursor: pointer;\n",
              "      display: none;\n",
              "      fill: #1967D2;\n",
              "      height: 32px;\n",
              "      padding: 0 0 0 0;\n",
              "      width: 32px;\n",
              "    }\n",
              "\n",
              "    .colab-df-convert:hover {\n",
              "      background-color: #E2EBFA;\n",
              "      box-shadow: 0px 1px 2px rgba(60, 64, 67, 0.3), 0px 1px 3px 1px rgba(60, 64, 67, 0.15);\n",
              "      fill: #174EA6;\n",
              "    }\n",
              "\n",
              "    [theme=dark] .colab-df-convert {\n",
              "      background-color: #3B4455;\n",
              "      fill: #D2E3FC;\n",
              "    }\n",
              "\n",
              "    [theme=dark] .colab-df-convert:hover {\n",
              "      background-color: #434B5C;\n",
              "      box-shadow: 0px 1px 3px 1px rgba(0, 0, 0, 0.15);\n",
              "      filter: drop-shadow(0px 1px 2px rgba(0, 0, 0, 0.3));\n",
              "      fill: #FFFFFF;\n",
              "    }\n",
              "  </style>\n",
              "\n",
              "      <script>\n",
              "        const buttonEl =\n",
              "          document.querySelector('#df-8b86a071-58dd-4c59-9c25-863bcef24d30 button.colab-df-convert');\n",
              "        buttonEl.style.display =\n",
              "          google.colab.kernel.accessAllowed ? 'block' : 'none';\n",
              "\n",
              "        async function convertToInteractive(key) {\n",
              "          const element = document.querySelector('#df-8b86a071-58dd-4c59-9c25-863bcef24d30');\n",
              "          const dataTable =\n",
              "            await google.colab.kernel.invokeFunction('convertToInteractive',\n",
              "                                                     [key], {});\n",
              "          if (!dataTable) return;\n",
              "\n",
              "          const docLinkHtml = 'Like what you see? Visit the ' +\n",
              "            '<a target=\"_blank\" href=https://colab.research.google.com/notebooks/data_table.ipynb>data table notebook</a>'\n",
              "            + ' to learn more about interactive tables.';\n",
              "          element.innerHTML = '';\n",
              "          dataTable['output_type'] = 'display_data';\n",
              "          await google.colab.output.renderOutput(dataTable, element);\n",
              "          const docLink = document.createElement('div');\n",
              "          docLink.innerHTML = docLinkHtml;\n",
              "          element.appendChild(docLink);\n",
              "        }\n",
              "      </script>\n",
              "    </div>\n",
              "  </div>\n",
              "  "
            ]
          },
          "metadata": {},
          "execution_count": 96
        }
      ]
    },
    {
      "cell_type": "code",
      "source": [
        "df = df[df['line'].apply(lambda x: len(x.split(' ')) < 350)]"
      ],
      "metadata": {
        "id": "mLoW0kOyWBnY"
      },
      "execution_count": 97,
      "outputs": []
    },
    {
      "cell_type": "code",
      "source": [
        "class Lyrics_of_song(Dataset):\n",
        "    \n",
        "    def __init__(self, control_code, truncate=False, gpt2_type=\"gpt2\", max_length=1024):\n",
        "\n",
        "        self.tokenizer = GPT2Tokenizer.from_pretrained(gpt2_type)\n",
        "        self.lyrics = []\n",
        "\n",
        "        for row in df['line']:\n",
        "          self.lyrics.append(torch.tensor(\n",
        "                self.tokenizer.encode(f\"<|{control_code}|>{row[:max_length]}<|endoftext|>\")\n",
        "            ))\n",
        "                \n",
        "        if truncate:\n",
        "            self.lyrics = self.lyrics[:20000]\n",
        "        self.lyrics_count = len(self.lyrics)\n",
        "        \n",
        "    def __len__(self):\n",
        "        return self.lyrics_count\n",
        "\n",
        "    def __getitem__(self, item):\n",
        "        return self.lyrics[item]"
      ],
      "metadata": {
        "id": "h62ZQfXQWFdm"
      },
      "execution_count": 98,
      "outputs": []
    },
    {
      "cell_type": "code",
      "source": [
        "dataset = Lyrics_of_song(df['line'], truncate=True, gpt2_type=\"gpt2\")"
      ],
      "metadata": {
        "colab": {
          "base_uri": "https://localhost:8080/",
          "height": 113,
          "referenced_widgets": [
            "0f0ef605dbbc425b8922ee83fde8cbac",
            "86afbe4893d84c20a261a111284f6571",
            "f0939318ce144ceb89714a6d08c7114b",
            "0ec9746f9b49446c80ae9c30e99f317f",
            "19b0b47b41eb465d81618d4d9ccdf8e9",
            "b8bfcbeb74f341329e0b77f7d92e1a64",
            "9f36a30a978a408cbb698a6c7b3998b5",
            "55fb12c4507d4105a1ed70123ce2cc75",
            "40f962daebb54e6faf411e14274453f1",
            "6554d9cd3d90409ea37b7fa3ce1027ae",
            "0ce5e62bdaa94a4f991b1045c24fc900",
            "b1dc87290af34d3593eef68cf1820334",
            "0979b19264a54e199ef8883972f6b755",
            "8e194919967f480bbbb95667af58b4f3",
            "f55e787894ce4f21b3664bea8f76f78a",
            "5a742305828b464b88c4c1c5b05057dc",
            "e009ba1e80c5440dbaca9863623c3f36",
            "f962116e6d5c4dd6bddbd04b85d89c04",
            "95918f0bfd3d4623b19933e633e33a16",
            "42c4e4092b934bdd995dd6502db5ebc5",
            "4056af16168443e1815def3b3d0fa299",
            "75ae4d747d3145739a2a596cbb44acff",
            "c69a7db7eb7648b2883530a35dd02cba",
            "4265f5dc44d340d59db9e8264ea0baa3",
            "e23077324bc945a283fd4ef88d57b816",
            "51982d8007c54f6687cbc2d578c7c913",
            "46263ba8b0ab487b949290107ea237d0",
            "3f0ba9ba41054bc096f74e28380cafc0",
            "b59b7e90e0694dd8841af2fee17ffe24",
            "6c7390a850214c8f8f1f3008efe6781e",
            "a09d332ee77b43ffa8d00f136aaa0c54",
            "3b6de98bac514d71afc2cf93278e9732",
            "b7791fdddab9446288c26d754e1d01ee"
          ]
        },
        "id": "o8ik3C9mWJ8v",
        "outputId": "146a79bb-6e95-4523-98f6-35f41568a391"
      },
      "execution_count": 99,
      "outputs": [
        {
          "output_type": "display_data",
          "data": {
            "text/plain": [
              "Downloading:   0%|          | 0.00/0.99M [00:00<?, ?B/s]"
            ],
            "application/vnd.jupyter.widget-view+json": {
              "version_major": 2,
              "version_minor": 0,
              "model_id": "0f0ef605dbbc425b8922ee83fde8cbac"
            }
          },
          "metadata": {}
        },
        {
          "output_type": "display_data",
          "data": {
            "text/plain": [
              "Downloading:   0%|          | 0.00/446k [00:00<?, ?B/s]"
            ],
            "application/vnd.jupyter.widget-view+json": {
              "version_major": 2,
              "version_minor": 0,
              "model_id": "b1dc87290af34d3593eef68cf1820334"
            }
          },
          "metadata": {}
        },
        {
          "output_type": "display_data",
          "data": {
            "text/plain": [
              "Downloading:   0%|          | 0.00/665 [00:00<?, ?B/s]"
            ],
            "application/vnd.jupyter.widget-view+json": {
              "version_major": 2,
              "version_minor": 0,
              "model_id": "c69a7db7eb7648b2883530a35dd02cba"
            }
          },
          "metadata": {}
        }
      ]
    },
    {
      "cell_type": "code",
      "source": [
        "tokenizer = GPT2Tokenizer.from_pretrained('gpt2')\n",
        "model = GPT2LMHeadModel.from_pretrained('gpt2')"
      ],
      "metadata": {
        "colab": {
          "base_uri": "https://localhost:8080/",
          "height": 49,
          "referenced_widgets": [
            "999a22ccab464ebd922ea28ae49b7c3c",
            "f43ace5792d34d9082398483f310d751",
            "8a170238cbe34f95a5261d64500606c7",
            "caaa198a47f14d7aa12fefeda266f196",
            "9157781cb7da4eb7a76165f76a6562ce",
            "9a71150f95014585ab891d34d3538446",
            "b785787dda8046d9aa31e9bbd7d773b8",
            "aefdeda553ea4fafbf9edfa600856cf8",
            "2628a015ae1a495fbcbde5337c7ac738",
            "dcd637efb36b49a2aee5793d8c12dcd4",
            "957d271e5a9041dc9e3a8a521d438734"
          ]
        },
        "id": "01f04YbiWK1h",
        "outputId": "5fe2c9ed-27bf-425f-941f-c02bf2cff8fb"
      },
      "execution_count": 100,
      "outputs": [
        {
          "output_type": "display_data",
          "data": {
            "text/plain": [
              "Downloading:   0%|          | 0.00/523M [00:00<?, ?B/s]"
            ],
            "application/vnd.jupyter.widget-view+json": {
              "version_major": 2,
              "version_minor": 0,
              "model_id": "999a22ccab464ebd922ea28ae49b7c3c"
            }
          },
          "metadata": {}
        }
      ]
    },
    {
      "cell_type": "markdown",
      "source": [
        "###Accumulated batch size "
      ],
      "metadata": {
        "id": "kgujpnbzWQje"
      }
    },
    {
      "cell_type": "code",
      "source": [
        "def pack_tensor(new_tensor, packed_tensor, max_seq_len):\n",
        "    if packed_tensor is None:\n",
        "        return new_tensor, True, None\n",
        "    if new_tensor.size()[1] + packed_tensor.size()[1] > max_seq_len:\n",
        "        return packed_tensor, False, new_tensor\n",
        "    else:\n",
        "        packed_tensor = torch.cat([new_tensor, packed_tensor[:, 1:]], dim=1)\n",
        "        return packed_tensor, True, None\n"
      ],
      "metadata": {
        "id": "CvD9ZFQdWK3x"
      },
      "execution_count": 101,
      "outputs": []
    },
    {
      "cell_type": "markdown",
      "source": [
        "### Train Model"
      ],
      "metadata": {
        "id": "ZngMw_PCWXXG"
      }
    },
    {
      "cell_type": "code",
      "source": [
        "def train(dataset, model, tokenizer,batch_size=16, epochs=20, lr=2e-5,max_seq_len=400, warmup_steps=200, gpt2_type=\"gpt2\", output_dir=\".\", output_prefix=\"wreckgar\", test_mode=False,save_model_on_epoch=False,):              \n",
        "    acc_steps = 100\n",
        "    #entry_length is maximum number of words\n",
        "    device=torch.device(\"cuda\")\n",
        "    model = model.cuda()\n",
        "    model.train()\n",
        "    optimizer = AdamW(model.parameters(), lr=lr)\n",
        "    scheduler = get_linear_schedule_with_warmup(optimizer, num_warmup_steps=warmup_steps, num_training_steps=-1)        \n",
        "    train_dataloader = DataLoader(dataset, batch_size=1, shuffle=True)\n",
        "    loss=0\n",
        "    accumulating_batch_count = 0\n",
        "    input_tensor = None\n",
        "\n",
        "    for epoch in range(epochs):\n",
        "\n",
        "        print(f\"Training Epoch {epoch+1}\")\n",
        "        print(loss)\n",
        "        \n",
        "        for idx, entry in tqdm(enumerate(train_dataloader)):\n",
        "            if input_tensor is None:\n",
        "                input_tensor = entry\n",
        "                carry_on = True\n",
        "                \n",
        "\n",
        "            (input_tensor, carry_on, remainder) = pack_tensor(entry, input_tensor, 768)\n",
        "\n",
        "            if carry_on and idx != len(train_dataloader) - 1:\n",
        "                continue\n",
        "\n",
        "            input_tensor = input_tensor.to(device)\n",
        "            outputs = model(input_tensor, labels=input_tensor)\n",
        "            loss = outputs[0]\n",
        "            loss.backward()\n",
        "\n",
        "            if (accumulating_batch_count % batch_size) == 0:\n",
        "                optimizer.step()\n",
        "                scheduler.step()\n",
        "                optimizer.zero_grad()\n",
        "                model.zero_grad()\n",
        "\n",
        "            accumulating_batch_count += 1\n",
        "            input_tensor = None\n",
        "        if save_model_on_epoch:\n",
        "            torch.save(\n",
        "                model.state_dict(),\n",
        "                os.path.join(output_dir, f\"{output_prefix}-{epoch}.pt\"),\n",
        "            )\n",
        "    return model\n"
      ],
      "metadata": {
        "id": "ETzPeavuWX7m"
      },
      "execution_count": 102,
      "outputs": []
    },
    {
      "cell_type": "code",
      "source": [
        "model = train(dataset, model, tokenizer)"
      ],
      "metadata": {
        "colab": {
          "base_uri": "https://localhost:8080/"
        },
        "id": "hfM69ah2WaKO",
        "outputId": "966d377e-e262-4674-9ed8-0b90ece3a9eb"
      },
      "execution_count": 103,
      "outputs": [
        {
          "output_type": "stream",
          "name": "stderr",
          "text": [
            "/usr/local/lib/python3.7/dist-packages/transformers/optimization.py:309: FutureWarning: This implementation of AdamW is deprecated and will be removed in a future version. Use the PyTorch implementation torch.optim.AdamW instead, or set `no_deprecation_warning=True` to disable this warning\n",
            "  FutureWarning,\n"
          ]
        },
        {
          "output_type": "stream",
          "name": "stdout",
          "text": [
            "Training Epoch 1\n",
            "0\n"
          ]
        },
        {
          "output_type": "stream",
          "name": "stderr",
          "text": [
            "377it [00:37, 10.13it/s]\n"
          ]
        },
        {
          "output_type": "stream",
          "name": "stdout",
          "text": [
            "Training Epoch 2\n",
            "tensor(2.2088, device='cuda:0', grad_fn=<NllLossBackward0>)\n"
          ]
        },
        {
          "output_type": "stream",
          "name": "stderr",
          "text": [
            "377it [00:38,  9.82it/s]\n"
          ]
        },
        {
          "output_type": "stream",
          "name": "stdout",
          "text": [
            "Training Epoch 3\n",
            "tensor(2.0079, device='cuda:0', grad_fn=<NllLossBackward0>)\n"
          ]
        },
        {
          "output_type": "stream",
          "name": "stderr",
          "text": [
            "377it [00:36, 10.19it/s]\n"
          ]
        },
        {
          "output_type": "stream",
          "name": "stdout",
          "text": [
            "Training Epoch 4\n",
            "tensor(1.6698, device='cuda:0', grad_fn=<NllLossBackward0>)\n"
          ]
        },
        {
          "output_type": "stream",
          "name": "stderr",
          "text": [
            "377it [00:37,  9.99it/s]\n"
          ]
        },
        {
          "output_type": "stream",
          "name": "stdout",
          "text": [
            "Training Epoch 5\n",
            "tensor(1.5486, device='cuda:0', grad_fn=<NllLossBackward0>)\n"
          ]
        },
        {
          "output_type": "stream",
          "name": "stderr",
          "text": [
            "377it [00:37, 10.01it/s]\n"
          ]
        },
        {
          "output_type": "stream",
          "name": "stdout",
          "text": [
            "Training Epoch 6\n",
            "tensor(1.3704, device='cuda:0', grad_fn=<NllLossBackward0>)\n"
          ]
        },
        {
          "output_type": "stream",
          "name": "stderr",
          "text": [
            "377it [00:37, 10.06it/s]\n"
          ]
        },
        {
          "output_type": "stream",
          "name": "stdout",
          "text": [
            "Training Epoch 7\n",
            "tensor(1.1021, device='cuda:0', grad_fn=<NllLossBackward0>)\n"
          ]
        },
        {
          "output_type": "stream",
          "name": "stderr",
          "text": [
            "377it [00:37, 10.00it/s]\n"
          ]
        },
        {
          "output_type": "stream",
          "name": "stdout",
          "text": [
            "Training Epoch 8\n",
            "tensor(1.0003, device='cuda:0', grad_fn=<NllLossBackward0>)\n"
          ]
        },
        {
          "output_type": "stream",
          "name": "stderr",
          "text": [
            "377it [00:37,  9.99it/s]\n"
          ]
        },
        {
          "output_type": "stream",
          "name": "stdout",
          "text": [
            "Training Epoch 9\n",
            "tensor(0.7119, device='cuda:0', grad_fn=<NllLossBackward0>)\n"
          ]
        },
        {
          "output_type": "stream",
          "name": "stderr",
          "text": [
            "377it [00:37,  9.99it/s]\n"
          ]
        },
        {
          "output_type": "stream",
          "name": "stdout",
          "text": [
            "Training Epoch 10\n",
            "tensor(0.5175, device='cuda:0', grad_fn=<NllLossBackward0>)\n"
          ]
        },
        {
          "output_type": "stream",
          "name": "stderr",
          "text": [
            "377it [00:37, 10.01it/s]\n"
          ]
        },
        {
          "output_type": "stream",
          "name": "stdout",
          "text": [
            "Training Epoch 11\n",
            "tensor(0.2949, device='cuda:0', grad_fn=<NllLossBackward0>)\n"
          ]
        },
        {
          "output_type": "stream",
          "name": "stderr",
          "text": [
            "377it [00:37, 10.05it/s]\n"
          ]
        },
        {
          "output_type": "stream",
          "name": "stdout",
          "text": [
            "Training Epoch 12\n",
            "tensor(0.2630, device='cuda:0', grad_fn=<NllLossBackward0>)\n"
          ]
        },
        {
          "output_type": "stream",
          "name": "stderr",
          "text": [
            "377it [00:37, 10.06it/s]\n"
          ]
        },
        {
          "output_type": "stream",
          "name": "stdout",
          "text": [
            "Training Epoch 13\n",
            "tensor(0.1720, device='cuda:0', grad_fn=<NllLossBackward0>)\n"
          ]
        },
        {
          "output_type": "stream",
          "name": "stderr",
          "text": [
            "377it [00:37, 10.06it/s]\n"
          ]
        },
        {
          "output_type": "stream",
          "name": "stdout",
          "text": [
            "Training Epoch 14\n",
            "tensor(0.2543, device='cuda:0', grad_fn=<NllLossBackward0>)\n"
          ]
        },
        {
          "output_type": "stream",
          "name": "stderr",
          "text": [
            "377it [00:37, 10.05it/s]\n"
          ]
        },
        {
          "output_type": "stream",
          "name": "stdout",
          "text": [
            "Training Epoch 15\n",
            "tensor(0.1602, device='cuda:0', grad_fn=<NllLossBackward0>)\n"
          ]
        },
        {
          "output_type": "stream",
          "name": "stderr",
          "text": [
            "377it [00:37, 10.06it/s]\n"
          ]
        },
        {
          "output_type": "stream",
          "name": "stdout",
          "text": [
            "Training Epoch 16\n",
            "tensor(0.1100, device='cuda:0', grad_fn=<NllLossBackward0>)\n"
          ]
        },
        {
          "output_type": "stream",
          "name": "stderr",
          "text": [
            "377it [00:37, 10.04it/s]\n"
          ]
        },
        {
          "output_type": "stream",
          "name": "stdout",
          "text": [
            "Training Epoch 17\n",
            "tensor(0.1292, device='cuda:0', grad_fn=<NllLossBackward0>)\n"
          ]
        },
        {
          "output_type": "stream",
          "name": "stderr",
          "text": [
            "377it [00:37, 10.01it/s]\n"
          ]
        },
        {
          "output_type": "stream",
          "name": "stdout",
          "text": [
            "Training Epoch 18\n",
            "tensor(0.1710, device='cuda:0', grad_fn=<NllLossBackward0>)\n"
          ]
        },
        {
          "output_type": "stream",
          "name": "stderr",
          "text": [
            "377it [00:37, 10.01it/s]\n"
          ]
        },
        {
          "output_type": "stream",
          "name": "stdout",
          "text": [
            "Training Epoch 19\n",
            "tensor(0.2058, device='cuda:0', grad_fn=<NllLossBackward0>)\n"
          ]
        },
        {
          "output_type": "stream",
          "name": "stderr",
          "text": [
            "377it [00:37, 10.01it/s]\n"
          ]
        },
        {
          "output_type": "stream",
          "name": "stdout",
          "text": [
            "Training Epoch 20\n",
            "tensor(0.1676, device='cuda:0', grad_fn=<NllLossBackward0>)\n"
          ]
        },
        {
          "output_type": "stream",
          "name": "stderr",
          "text": [
            "377it [00:37,  9.98it/s]\n"
          ]
        }
      ]
    },
    {
      "cell_type": "markdown",
      "source": [
        "###Generate List "
      ],
      "metadata": {
        "id": "Ch77qY3MWgUW"
      }
    },
    {
      "cell_type": "code",
      "source": [
        "def List_generate(model,tokenizer, prompt,entry_count=10,entry_length=30,top_p=0.8, temperature=1.,):    \n",
        "    model.eval()\n",
        "    generated_num = 0\n",
        "    generated_list = []\n",
        "\n",
        "    filter_value = -float(\"Inf\")\n",
        "\n",
        "    with torch.no_grad():\n",
        "\n",
        "        for entry_idx in trange(entry_count):\n",
        "\n",
        "            entry_finished = False\n",
        "\n",
        "            generated = torch.tensor(tokenizer.encode(prompt)).unsqueeze(0)\n",
        "\n",
        "            for i in range(entry_length):\n",
        "                outputs = model(generated, labels=generated)\n",
        "                loss, logits = outputs[:2]\n",
        "                logits = logits[:, -1, :] / (temperature if temperature > 0 else 1.0)\n",
        "\n",
        "                sorted_logits, sorted_indices = torch.sort(logits, descending=True)\n",
        "                cumulative_probs = torch.cumsum(F.softmax(sorted_logits, dim=-1), dim=-1)\n",
        "\n",
        "                sorted_indices_to_remove = cumulative_probs > top_p\n",
        "                sorted_indices_to_remove[..., 1:] = sorted_indices_to_remove[\n",
        "                    ..., :-1\n",
        "                ].clone()\n",
        "                sorted_indices_to_remove[..., 0] = 0\n",
        "\n",
        "                indices_to_remove = sorted_indices[sorted_indices_to_remove]\n",
        "                logits[:, indices_to_remove] = filter_value\n",
        "\n",
        "                next_token = torch.multinomial(F.softmax(logits, dim=-1), num_samples=1)\n",
        "                generated = torch.cat((generated, next_token), dim=1)\n",
        "\n",
        "                if next_token in tokenizer.encode(\"<|endoftext|>\"):\n",
        "                    entry_finished = True\n",
        "\n",
        "                if entry_finished:\n",
        "\n",
        "                    generated_num = generated_num + 1\n",
        "\n",
        "                    output_list = list(generated.squeeze().numpy())\n",
        "                    output_text = tokenizer.decode(output_list)\n",
        "                    generated_list.append(output_text)\n",
        "                    break\n",
        "            \n",
        "            if not entry_finished:\n",
        "              output_list = list(generated.squeeze().numpy())\n",
        "              output_text = f\"{tokenizer.decode(output_list)}<|endoftext|>\" \n",
        "              generated_list.append(output_text)  \n",
        "    #return generated list            \n",
        "    return generated_list"
      ],
      "metadata": {
        "id": "SgHwGS7uWcY-"
      },
      "execution_count": 104,
      "outputs": []
    },
    {
      "cell_type": "markdown",
      "source": [
        "###Prompt: \"I love Deep Learning\""
      ],
      "metadata": {
        "id": "T7VR1fGPWk5U"
      }
    },
    {
      "cell_type": "code",
      "source": [
        "x = List_generate(model.to('cpu'), tokenizer, \"I love deep Learning\", entry_count=1)"
      ],
      "metadata": {
        "colab": {
          "base_uri": "https://localhost:8080/"
        },
        "id": "vRdVuor-Wcb3",
        "outputId": "9e15a9ba-ee34-4f43-9200-5852f428a2a0"
      },
      "execution_count": 105,
      "outputs": [
        {
          "output_type": "stream",
          "name": "stderr",
          "text": [
            "100%|██████████| 1/1 [00:04<00:00,  4.47s/it]\n"
          ]
        }
      ]
    },
    {
      "cell_type": "code",
      "source": [
        "print(x)"
      ],
      "metadata": {
        "colab": {
          "base_uri": "https://localhost:8080/"
        },
        "id": "BigIY3mFWcd8",
        "outputId": "50b65dae-eeb5-463a-96c3-424bb24bcc13"
      },
      "execution_count": 106,
      "outputs": [
        {
          "output_type": "stream",
          "name": "stdout",
          "text": [
            "[\"I love deep Learning. The deep learning revolution has the potential to radically change the world. As of right now we still haven't been able to talk about the implications of<|endoftext|>\"]\n"
          ]
        }
      ]
    },
    {
      "cell_type": "markdown",
      "source": [
        "###Prompt: \"I'm comin back from Florida / Wit Jeb Bush and.\""
      ],
      "metadata": {
        "id": "X7aGOZ--XEzQ"
      }
    },
    {
      "cell_type": "code",
      "source": [
        "x1 = List_generate(model.to('cpu'), tokenizer, \"I'm comin back from Florida / Wit Jeb Bush and.\", entry_count=1)"
      ],
      "metadata": {
        "colab": {
          "base_uri": "https://localhost:8080/"
        },
        "id": "7_ICaHVaWcf-",
        "outputId": "570b211c-84f4-42c2-e926-a44f9a8243a3"
      },
      "execution_count": 107,
      "outputs": [
        {
          "output_type": "stream",
          "name": "stderr",
          "text": [
            "100%|██████████| 1/1 [00:05<00:00,  5.19s/it]\n"
          ]
        }
      ]
    },
    {
      "cell_type": "code",
      "source": [
        "print(x1)"
      ],
      "metadata": {
        "colab": {
          "base_uri": "https://localhost:8080/"
        },
        "id": "BfMgrFBGWvba",
        "outputId": "e624a910-cfc0-4e71-f8a2-59b76126f3d1"
      },
      "execution_count": 108,
      "outputs": [
        {
          "output_type": "stream",
          "name": "stdout",
          "text": [
            "[\"I'm comin back from Florida / Wit Jeb Bush and. Don't call me like a pussy / H-I'm Clinton and that bitch's runnin' / They're gon' have my back / See<|endoftext|>\"]\n"
          ]
        }
      ]
    }
  ],
  "metadata": {
    "colab": {
      "collapsed_sections": [],
      "name": "DL_Assignment3_final.ipynb",
      "provenance": []
    },
    "kernelspec": {
      "display_name": "Python 3",
      "name": "python3"
    },
    "language_info": {
      "name": "python"
    },
    "accelerator": "GPU",
    "widgets": {
      "application/vnd.jupyter.widget-state+json": {
        "0f0ef605dbbc425b8922ee83fde8cbac": {
          "model_module": "@jupyter-widgets/controls",
          "model_name": "HBoxModel",
          "model_module_version": "1.5.0",
          "state": {
            "_dom_classes": [],
            "_model_module": "@jupyter-widgets/controls",
            "_model_module_version": "1.5.0",
            "_model_name": "HBoxModel",
            "_view_count": null,
            "_view_module": "@jupyter-widgets/controls",
            "_view_module_version": "1.5.0",
            "_view_name": "HBoxView",
            "box_style": "",
            "children": [
              "IPY_MODEL_86afbe4893d84c20a261a111284f6571",
              "IPY_MODEL_f0939318ce144ceb89714a6d08c7114b",
              "IPY_MODEL_0ec9746f9b49446c80ae9c30e99f317f"
            ],
            "layout": "IPY_MODEL_19b0b47b41eb465d81618d4d9ccdf8e9"
          }
        },
        "86afbe4893d84c20a261a111284f6571": {
          "model_module": "@jupyter-widgets/controls",
          "model_name": "HTMLModel",
          "model_module_version": "1.5.0",
          "state": {
            "_dom_classes": [],
            "_model_module": "@jupyter-widgets/controls",
            "_model_module_version": "1.5.0",
            "_model_name": "HTMLModel",
            "_view_count": null,
            "_view_module": "@jupyter-widgets/controls",
            "_view_module_version": "1.5.0",
            "_view_name": "HTMLView",
            "description": "",
            "description_tooltip": null,
            "layout": "IPY_MODEL_b8bfcbeb74f341329e0b77f7d92e1a64",
            "placeholder": "​",
            "style": "IPY_MODEL_9f36a30a978a408cbb698a6c7b3998b5",
            "value": "Downloading: 100%"
          }
        },
        "f0939318ce144ceb89714a6d08c7114b": {
          "model_module": "@jupyter-widgets/controls",
          "model_name": "FloatProgressModel",
          "model_module_version": "1.5.0",
          "state": {
            "_dom_classes": [],
            "_model_module": "@jupyter-widgets/controls",
            "_model_module_version": "1.5.0",
            "_model_name": "FloatProgressModel",
            "_view_count": null,
            "_view_module": "@jupyter-widgets/controls",
            "_view_module_version": "1.5.0",
            "_view_name": "ProgressView",
            "bar_style": "success",
            "description": "",
            "description_tooltip": null,
            "layout": "IPY_MODEL_55fb12c4507d4105a1ed70123ce2cc75",
            "max": 1042301,
            "min": 0,
            "orientation": "horizontal",
            "style": "IPY_MODEL_40f962daebb54e6faf411e14274453f1",
            "value": 1042301
          }
        },
        "0ec9746f9b49446c80ae9c30e99f317f": {
          "model_module": "@jupyter-widgets/controls",
          "model_name": "HTMLModel",
          "model_module_version": "1.5.0",
          "state": {
            "_dom_classes": [],
            "_model_module": "@jupyter-widgets/controls",
            "_model_module_version": "1.5.0",
            "_model_name": "HTMLModel",
            "_view_count": null,
            "_view_module": "@jupyter-widgets/controls",
            "_view_module_version": "1.5.0",
            "_view_name": "HTMLView",
            "description": "",
            "description_tooltip": null,
            "layout": "IPY_MODEL_6554d9cd3d90409ea37b7fa3ce1027ae",
            "placeholder": "​",
            "style": "IPY_MODEL_0ce5e62bdaa94a4f991b1045c24fc900",
            "value": " 0.99M/0.99M [00:00&lt;00:00, 13.4MB/s]"
          }
        },
        "19b0b47b41eb465d81618d4d9ccdf8e9": {
          "model_module": "@jupyter-widgets/base",
          "model_name": "LayoutModel",
          "model_module_version": "1.2.0",
          "state": {
            "_model_module": "@jupyter-widgets/base",
            "_model_module_version": "1.2.0",
            "_model_name": "LayoutModel",
            "_view_count": null,
            "_view_module": "@jupyter-widgets/base",
            "_view_module_version": "1.2.0",
            "_view_name": "LayoutView",
            "align_content": null,
            "align_items": null,
            "align_self": null,
            "border": null,
            "bottom": null,
            "display": null,
            "flex": null,
            "flex_flow": null,
            "grid_area": null,
            "grid_auto_columns": null,
            "grid_auto_flow": null,
            "grid_auto_rows": null,
            "grid_column": null,
            "grid_gap": null,
            "grid_row": null,
            "grid_template_areas": null,
            "grid_template_columns": null,
            "grid_template_rows": null,
            "height": null,
            "justify_content": null,
            "justify_items": null,
            "left": null,
            "margin": null,
            "max_height": null,
            "max_width": null,
            "min_height": null,
            "min_width": null,
            "object_fit": null,
            "object_position": null,
            "order": null,
            "overflow": null,
            "overflow_x": null,
            "overflow_y": null,
            "padding": null,
            "right": null,
            "top": null,
            "visibility": null,
            "width": null
          }
        },
        "b8bfcbeb74f341329e0b77f7d92e1a64": {
          "model_module": "@jupyter-widgets/base",
          "model_name": "LayoutModel",
          "model_module_version": "1.2.0",
          "state": {
            "_model_module": "@jupyter-widgets/base",
            "_model_module_version": "1.2.0",
            "_model_name": "LayoutModel",
            "_view_count": null,
            "_view_module": "@jupyter-widgets/base",
            "_view_module_version": "1.2.0",
            "_view_name": "LayoutView",
            "align_content": null,
            "align_items": null,
            "align_self": null,
            "border": null,
            "bottom": null,
            "display": null,
            "flex": null,
            "flex_flow": null,
            "grid_area": null,
            "grid_auto_columns": null,
            "grid_auto_flow": null,
            "grid_auto_rows": null,
            "grid_column": null,
            "grid_gap": null,
            "grid_row": null,
            "grid_template_areas": null,
            "grid_template_columns": null,
            "grid_template_rows": null,
            "height": null,
            "justify_content": null,
            "justify_items": null,
            "left": null,
            "margin": null,
            "max_height": null,
            "max_width": null,
            "min_height": null,
            "min_width": null,
            "object_fit": null,
            "object_position": null,
            "order": null,
            "overflow": null,
            "overflow_x": null,
            "overflow_y": null,
            "padding": null,
            "right": null,
            "top": null,
            "visibility": null,
            "width": null
          }
        },
        "9f36a30a978a408cbb698a6c7b3998b5": {
          "model_module": "@jupyter-widgets/controls",
          "model_name": "DescriptionStyleModel",
          "model_module_version": "1.5.0",
          "state": {
            "_model_module": "@jupyter-widgets/controls",
            "_model_module_version": "1.5.0",
            "_model_name": "DescriptionStyleModel",
            "_view_count": null,
            "_view_module": "@jupyter-widgets/base",
            "_view_module_version": "1.2.0",
            "_view_name": "StyleView",
            "description_width": ""
          }
        },
        "55fb12c4507d4105a1ed70123ce2cc75": {
          "model_module": "@jupyter-widgets/base",
          "model_name": "LayoutModel",
          "model_module_version": "1.2.0",
          "state": {
            "_model_module": "@jupyter-widgets/base",
            "_model_module_version": "1.2.0",
            "_model_name": "LayoutModel",
            "_view_count": null,
            "_view_module": "@jupyter-widgets/base",
            "_view_module_version": "1.2.0",
            "_view_name": "LayoutView",
            "align_content": null,
            "align_items": null,
            "align_self": null,
            "border": null,
            "bottom": null,
            "display": null,
            "flex": null,
            "flex_flow": null,
            "grid_area": null,
            "grid_auto_columns": null,
            "grid_auto_flow": null,
            "grid_auto_rows": null,
            "grid_column": null,
            "grid_gap": null,
            "grid_row": null,
            "grid_template_areas": null,
            "grid_template_columns": null,
            "grid_template_rows": null,
            "height": null,
            "justify_content": null,
            "justify_items": null,
            "left": null,
            "margin": null,
            "max_height": null,
            "max_width": null,
            "min_height": null,
            "min_width": null,
            "object_fit": null,
            "object_position": null,
            "order": null,
            "overflow": null,
            "overflow_x": null,
            "overflow_y": null,
            "padding": null,
            "right": null,
            "top": null,
            "visibility": null,
            "width": null
          }
        },
        "40f962daebb54e6faf411e14274453f1": {
          "model_module": "@jupyter-widgets/controls",
          "model_name": "ProgressStyleModel",
          "model_module_version": "1.5.0",
          "state": {
            "_model_module": "@jupyter-widgets/controls",
            "_model_module_version": "1.5.0",
            "_model_name": "ProgressStyleModel",
            "_view_count": null,
            "_view_module": "@jupyter-widgets/base",
            "_view_module_version": "1.2.0",
            "_view_name": "StyleView",
            "bar_color": null,
            "description_width": ""
          }
        },
        "6554d9cd3d90409ea37b7fa3ce1027ae": {
          "model_module": "@jupyter-widgets/base",
          "model_name": "LayoutModel",
          "model_module_version": "1.2.0",
          "state": {
            "_model_module": "@jupyter-widgets/base",
            "_model_module_version": "1.2.0",
            "_model_name": "LayoutModel",
            "_view_count": null,
            "_view_module": "@jupyter-widgets/base",
            "_view_module_version": "1.2.0",
            "_view_name": "LayoutView",
            "align_content": null,
            "align_items": null,
            "align_self": null,
            "border": null,
            "bottom": null,
            "display": null,
            "flex": null,
            "flex_flow": null,
            "grid_area": null,
            "grid_auto_columns": null,
            "grid_auto_flow": null,
            "grid_auto_rows": null,
            "grid_column": null,
            "grid_gap": null,
            "grid_row": null,
            "grid_template_areas": null,
            "grid_template_columns": null,
            "grid_template_rows": null,
            "height": null,
            "justify_content": null,
            "justify_items": null,
            "left": null,
            "margin": null,
            "max_height": null,
            "max_width": null,
            "min_height": null,
            "min_width": null,
            "object_fit": null,
            "object_position": null,
            "order": null,
            "overflow": null,
            "overflow_x": null,
            "overflow_y": null,
            "padding": null,
            "right": null,
            "top": null,
            "visibility": null,
            "width": null
          }
        },
        "0ce5e62bdaa94a4f991b1045c24fc900": {
          "model_module": "@jupyter-widgets/controls",
          "model_name": "DescriptionStyleModel",
          "model_module_version": "1.5.0",
          "state": {
            "_model_module": "@jupyter-widgets/controls",
            "_model_module_version": "1.5.0",
            "_model_name": "DescriptionStyleModel",
            "_view_count": null,
            "_view_module": "@jupyter-widgets/base",
            "_view_module_version": "1.2.0",
            "_view_name": "StyleView",
            "description_width": ""
          }
        },
        "b1dc87290af34d3593eef68cf1820334": {
          "model_module": "@jupyter-widgets/controls",
          "model_name": "HBoxModel",
          "model_module_version": "1.5.0",
          "state": {
            "_dom_classes": [],
            "_model_module": "@jupyter-widgets/controls",
            "_model_module_version": "1.5.0",
            "_model_name": "HBoxModel",
            "_view_count": null,
            "_view_module": "@jupyter-widgets/controls",
            "_view_module_version": "1.5.0",
            "_view_name": "HBoxView",
            "box_style": "",
            "children": [
              "IPY_MODEL_0979b19264a54e199ef8883972f6b755",
              "IPY_MODEL_8e194919967f480bbbb95667af58b4f3",
              "IPY_MODEL_f55e787894ce4f21b3664bea8f76f78a"
            ],
            "layout": "IPY_MODEL_5a742305828b464b88c4c1c5b05057dc"
          }
        },
        "0979b19264a54e199ef8883972f6b755": {
          "model_module": "@jupyter-widgets/controls",
          "model_name": "HTMLModel",
          "model_module_version": "1.5.0",
          "state": {
            "_dom_classes": [],
            "_model_module": "@jupyter-widgets/controls",
            "_model_module_version": "1.5.0",
            "_model_name": "HTMLModel",
            "_view_count": null,
            "_view_module": "@jupyter-widgets/controls",
            "_view_module_version": "1.5.0",
            "_view_name": "HTMLView",
            "description": "",
            "description_tooltip": null,
            "layout": "IPY_MODEL_e009ba1e80c5440dbaca9863623c3f36",
            "placeholder": "​",
            "style": "IPY_MODEL_f962116e6d5c4dd6bddbd04b85d89c04",
            "value": "Downloading: 100%"
          }
        },
        "8e194919967f480bbbb95667af58b4f3": {
          "model_module": "@jupyter-widgets/controls",
          "model_name": "FloatProgressModel",
          "model_module_version": "1.5.0",
          "state": {
            "_dom_classes": [],
            "_model_module": "@jupyter-widgets/controls",
            "_model_module_version": "1.5.0",
            "_model_name": "FloatProgressModel",
            "_view_count": null,
            "_view_module": "@jupyter-widgets/controls",
            "_view_module_version": "1.5.0",
            "_view_name": "ProgressView",
            "bar_style": "success",
            "description": "",
            "description_tooltip": null,
            "layout": "IPY_MODEL_95918f0bfd3d4623b19933e633e33a16",
            "max": 456318,
            "min": 0,
            "orientation": "horizontal",
            "style": "IPY_MODEL_42c4e4092b934bdd995dd6502db5ebc5",
            "value": 456318
          }
        },
        "f55e787894ce4f21b3664bea8f76f78a": {
          "model_module": "@jupyter-widgets/controls",
          "model_name": "HTMLModel",
          "model_module_version": "1.5.0",
          "state": {
            "_dom_classes": [],
            "_model_module": "@jupyter-widgets/controls",
            "_model_module_version": "1.5.0",
            "_model_name": "HTMLModel",
            "_view_count": null,
            "_view_module": "@jupyter-widgets/controls",
            "_view_module_version": "1.5.0",
            "_view_name": "HTMLView",
            "description": "",
            "description_tooltip": null,
            "layout": "IPY_MODEL_4056af16168443e1815def3b3d0fa299",
            "placeholder": "​",
            "style": "IPY_MODEL_75ae4d747d3145739a2a596cbb44acff",
            "value": " 446k/446k [00:00&lt;00:00, 8.03MB/s]"
          }
        },
        "5a742305828b464b88c4c1c5b05057dc": {
          "model_module": "@jupyter-widgets/base",
          "model_name": "LayoutModel",
          "model_module_version": "1.2.0",
          "state": {
            "_model_module": "@jupyter-widgets/base",
            "_model_module_version": "1.2.0",
            "_model_name": "LayoutModel",
            "_view_count": null,
            "_view_module": "@jupyter-widgets/base",
            "_view_module_version": "1.2.0",
            "_view_name": "LayoutView",
            "align_content": null,
            "align_items": null,
            "align_self": null,
            "border": null,
            "bottom": null,
            "display": null,
            "flex": null,
            "flex_flow": null,
            "grid_area": null,
            "grid_auto_columns": null,
            "grid_auto_flow": null,
            "grid_auto_rows": null,
            "grid_column": null,
            "grid_gap": null,
            "grid_row": null,
            "grid_template_areas": null,
            "grid_template_columns": null,
            "grid_template_rows": null,
            "height": null,
            "justify_content": null,
            "justify_items": null,
            "left": null,
            "margin": null,
            "max_height": null,
            "max_width": null,
            "min_height": null,
            "min_width": null,
            "object_fit": null,
            "object_position": null,
            "order": null,
            "overflow": null,
            "overflow_x": null,
            "overflow_y": null,
            "padding": null,
            "right": null,
            "top": null,
            "visibility": null,
            "width": null
          }
        },
        "e009ba1e80c5440dbaca9863623c3f36": {
          "model_module": "@jupyter-widgets/base",
          "model_name": "LayoutModel",
          "model_module_version": "1.2.0",
          "state": {
            "_model_module": "@jupyter-widgets/base",
            "_model_module_version": "1.2.0",
            "_model_name": "LayoutModel",
            "_view_count": null,
            "_view_module": "@jupyter-widgets/base",
            "_view_module_version": "1.2.0",
            "_view_name": "LayoutView",
            "align_content": null,
            "align_items": null,
            "align_self": null,
            "border": null,
            "bottom": null,
            "display": null,
            "flex": null,
            "flex_flow": null,
            "grid_area": null,
            "grid_auto_columns": null,
            "grid_auto_flow": null,
            "grid_auto_rows": null,
            "grid_column": null,
            "grid_gap": null,
            "grid_row": null,
            "grid_template_areas": null,
            "grid_template_columns": null,
            "grid_template_rows": null,
            "height": null,
            "justify_content": null,
            "justify_items": null,
            "left": null,
            "margin": null,
            "max_height": null,
            "max_width": null,
            "min_height": null,
            "min_width": null,
            "object_fit": null,
            "object_position": null,
            "order": null,
            "overflow": null,
            "overflow_x": null,
            "overflow_y": null,
            "padding": null,
            "right": null,
            "top": null,
            "visibility": null,
            "width": null
          }
        },
        "f962116e6d5c4dd6bddbd04b85d89c04": {
          "model_module": "@jupyter-widgets/controls",
          "model_name": "DescriptionStyleModel",
          "model_module_version": "1.5.0",
          "state": {
            "_model_module": "@jupyter-widgets/controls",
            "_model_module_version": "1.5.0",
            "_model_name": "DescriptionStyleModel",
            "_view_count": null,
            "_view_module": "@jupyter-widgets/base",
            "_view_module_version": "1.2.0",
            "_view_name": "StyleView",
            "description_width": ""
          }
        },
        "95918f0bfd3d4623b19933e633e33a16": {
          "model_module": "@jupyter-widgets/base",
          "model_name": "LayoutModel",
          "model_module_version": "1.2.0",
          "state": {
            "_model_module": "@jupyter-widgets/base",
            "_model_module_version": "1.2.0",
            "_model_name": "LayoutModel",
            "_view_count": null,
            "_view_module": "@jupyter-widgets/base",
            "_view_module_version": "1.2.0",
            "_view_name": "LayoutView",
            "align_content": null,
            "align_items": null,
            "align_self": null,
            "border": null,
            "bottom": null,
            "display": null,
            "flex": null,
            "flex_flow": null,
            "grid_area": null,
            "grid_auto_columns": null,
            "grid_auto_flow": null,
            "grid_auto_rows": null,
            "grid_column": null,
            "grid_gap": null,
            "grid_row": null,
            "grid_template_areas": null,
            "grid_template_columns": null,
            "grid_template_rows": null,
            "height": null,
            "justify_content": null,
            "justify_items": null,
            "left": null,
            "margin": null,
            "max_height": null,
            "max_width": null,
            "min_height": null,
            "min_width": null,
            "object_fit": null,
            "object_position": null,
            "order": null,
            "overflow": null,
            "overflow_x": null,
            "overflow_y": null,
            "padding": null,
            "right": null,
            "top": null,
            "visibility": null,
            "width": null
          }
        },
        "42c4e4092b934bdd995dd6502db5ebc5": {
          "model_module": "@jupyter-widgets/controls",
          "model_name": "ProgressStyleModel",
          "model_module_version": "1.5.0",
          "state": {
            "_model_module": "@jupyter-widgets/controls",
            "_model_module_version": "1.5.0",
            "_model_name": "ProgressStyleModel",
            "_view_count": null,
            "_view_module": "@jupyter-widgets/base",
            "_view_module_version": "1.2.0",
            "_view_name": "StyleView",
            "bar_color": null,
            "description_width": ""
          }
        },
        "4056af16168443e1815def3b3d0fa299": {
          "model_module": "@jupyter-widgets/base",
          "model_name": "LayoutModel",
          "model_module_version": "1.2.0",
          "state": {
            "_model_module": "@jupyter-widgets/base",
            "_model_module_version": "1.2.0",
            "_model_name": "LayoutModel",
            "_view_count": null,
            "_view_module": "@jupyter-widgets/base",
            "_view_module_version": "1.2.0",
            "_view_name": "LayoutView",
            "align_content": null,
            "align_items": null,
            "align_self": null,
            "border": null,
            "bottom": null,
            "display": null,
            "flex": null,
            "flex_flow": null,
            "grid_area": null,
            "grid_auto_columns": null,
            "grid_auto_flow": null,
            "grid_auto_rows": null,
            "grid_column": null,
            "grid_gap": null,
            "grid_row": null,
            "grid_template_areas": null,
            "grid_template_columns": null,
            "grid_template_rows": null,
            "height": null,
            "justify_content": null,
            "justify_items": null,
            "left": null,
            "margin": null,
            "max_height": null,
            "max_width": null,
            "min_height": null,
            "min_width": null,
            "object_fit": null,
            "object_position": null,
            "order": null,
            "overflow": null,
            "overflow_x": null,
            "overflow_y": null,
            "padding": null,
            "right": null,
            "top": null,
            "visibility": null,
            "width": null
          }
        },
        "75ae4d747d3145739a2a596cbb44acff": {
          "model_module": "@jupyter-widgets/controls",
          "model_name": "DescriptionStyleModel",
          "model_module_version": "1.5.0",
          "state": {
            "_model_module": "@jupyter-widgets/controls",
            "_model_module_version": "1.5.0",
            "_model_name": "DescriptionStyleModel",
            "_view_count": null,
            "_view_module": "@jupyter-widgets/base",
            "_view_module_version": "1.2.0",
            "_view_name": "StyleView",
            "description_width": ""
          }
        },
        "c69a7db7eb7648b2883530a35dd02cba": {
          "model_module": "@jupyter-widgets/controls",
          "model_name": "HBoxModel",
          "model_module_version": "1.5.0",
          "state": {
            "_dom_classes": [],
            "_model_module": "@jupyter-widgets/controls",
            "_model_module_version": "1.5.0",
            "_model_name": "HBoxModel",
            "_view_count": null,
            "_view_module": "@jupyter-widgets/controls",
            "_view_module_version": "1.5.0",
            "_view_name": "HBoxView",
            "box_style": "",
            "children": [
              "IPY_MODEL_4265f5dc44d340d59db9e8264ea0baa3",
              "IPY_MODEL_e23077324bc945a283fd4ef88d57b816",
              "IPY_MODEL_51982d8007c54f6687cbc2d578c7c913"
            ],
            "layout": "IPY_MODEL_46263ba8b0ab487b949290107ea237d0"
          }
        },
        "4265f5dc44d340d59db9e8264ea0baa3": {
          "model_module": "@jupyter-widgets/controls",
          "model_name": "HTMLModel",
          "model_module_version": "1.5.0",
          "state": {
            "_dom_classes": [],
            "_model_module": "@jupyter-widgets/controls",
            "_model_module_version": "1.5.0",
            "_model_name": "HTMLModel",
            "_view_count": null,
            "_view_module": "@jupyter-widgets/controls",
            "_view_module_version": "1.5.0",
            "_view_name": "HTMLView",
            "description": "",
            "description_tooltip": null,
            "layout": "IPY_MODEL_3f0ba9ba41054bc096f74e28380cafc0",
            "placeholder": "​",
            "style": "IPY_MODEL_b59b7e90e0694dd8841af2fee17ffe24",
            "value": "Downloading: 100%"
          }
        },
        "e23077324bc945a283fd4ef88d57b816": {
          "model_module": "@jupyter-widgets/controls",
          "model_name": "FloatProgressModel",
          "model_module_version": "1.5.0",
          "state": {
            "_dom_classes": [],
            "_model_module": "@jupyter-widgets/controls",
            "_model_module_version": "1.5.0",
            "_model_name": "FloatProgressModel",
            "_view_count": null,
            "_view_module": "@jupyter-widgets/controls",
            "_view_module_version": "1.5.0",
            "_view_name": "ProgressView",
            "bar_style": "success",
            "description": "",
            "description_tooltip": null,
            "layout": "IPY_MODEL_6c7390a850214c8f8f1f3008efe6781e",
            "max": 665,
            "min": 0,
            "orientation": "horizontal",
            "style": "IPY_MODEL_a09d332ee77b43ffa8d00f136aaa0c54",
            "value": 665
          }
        },
        "51982d8007c54f6687cbc2d578c7c913": {
          "model_module": "@jupyter-widgets/controls",
          "model_name": "HTMLModel",
          "model_module_version": "1.5.0",
          "state": {
            "_dom_classes": [],
            "_model_module": "@jupyter-widgets/controls",
            "_model_module_version": "1.5.0",
            "_model_name": "HTMLModel",
            "_view_count": null,
            "_view_module": "@jupyter-widgets/controls",
            "_view_module_version": "1.5.0",
            "_view_name": "HTMLView",
            "description": "",
            "description_tooltip": null,
            "layout": "IPY_MODEL_3b6de98bac514d71afc2cf93278e9732",
            "placeholder": "​",
            "style": "IPY_MODEL_b7791fdddab9446288c26d754e1d01ee",
            "value": " 665/665 [00:00&lt;00:00, 12.9kB/s]"
          }
        },
        "46263ba8b0ab487b949290107ea237d0": {
          "model_module": "@jupyter-widgets/base",
          "model_name": "LayoutModel",
          "model_module_version": "1.2.0",
          "state": {
            "_model_module": "@jupyter-widgets/base",
            "_model_module_version": "1.2.0",
            "_model_name": "LayoutModel",
            "_view_count": null,
            "_view_module": "@jupyter-widgets/base",
            "_view_module_version": "1.2.0",
            "_view_name": "LayoutView",
            "align_content": null,
            "align_items": null,
            "align_self": null,
            "border": null,
            "bottom": null,
            "display": null,
            "flex": null,
            "flex_flow": null,
            "grid_area": null,
            "grid_auto_columns": null,
            "grid_auto_flow": null,
            "grid_auto_rows": null,
            "grid_column": null,
            "grid_gap": null,
            "grid_row": null,
            "grid_template_areas": null,
            "grid_template_columns": null,
            "grid_template_rows": null,
            "height": null,
            "justify_content": null,
            "justify_items": null,
            "left": null,
            "margin": null,
            "max_height": null,
            "max_width": null,
            "min_height": null,
            "min_width": null,
            "object_fit": null,
            "object_position": null,
            "order": null,
            "overflow": null,
            "overflow_x": null,
            "overflow_y": null,
            "padding": null,
            "right": null,
            "top": null,
            "visibility": null,
            "width": null
          }
        },
        "3f0ba9ba41054bc096f74e28380cafc0": {
          "model_module": "@jupyter-widgets/base",
          "model_name": "LayoutModel",
          "model_module_version": "1.2.0",
          "state": {
            "_model_module": "@jupyter-widgets/base",
            "_model_module_version": "1.2.0",
            "_model_name": "LayoutModel",
            "_view_count": null,
            "_view_module": "@jupyter-widgets/base",
            "_view_module_version": "1.2.0",
            "_view_name": "LayoutView",
            "align_content": null,
            "align_items": null,
            "align_self": null,
            "border": null,
            "bottom": null,
            "display": null,
            "flex": null,
            "flex_flow": null,
            "grid_area": null,
            "grid_auto_columns": null,
            "grid_auto_flow": null,
            "grid_auto_rows": null,
            "grid_column": null,
            "grid_gap": null,
            "grid_row": null,
            "grid_template_areas": null,
            "grid_template_columns": null,
            "grid_template_rows": null,
            "height": null,
            "justify_content": null,
            "justify_items": null,
            "left": null,
            "margin": null,
            "max_height": null,
            "max_width": null,
            "min_height": null,
            "min_width": null,
            "object_fit": null,
            "object_position": null,
            "order": null,
            "overflow": null,
            "overflow_x": null,
            "overflow_y": null,
            "padding": null,
            "right": null,
            "top": null,
            "visibility": null,
            "width": null
          }
        },
        "b59b7e90e0694dd8841af2fee17ffe24": {
          "model_module": "@jupyter-widgets/controls",
          "model_name": "DescriptionStyleModel",
          "model_module_version": "1.5.0",
          "state": {
            "_model_module": "@jupyter-widgets/controls",
            "_model_module_version": "1.5.0",
            "_model_name": "DescriptionStyleModel",
            "_view_count": null,
            "_view_module": "@jupyter-widgets/base",
            "_view_module_version": "1.2.0",
            "_view_name": "StyleView",
            "description_width": ""
          }
        },
        "6c7390a850214c8f8f1f3008efe6781e": {
          "model_module": "@jupyter-widgets/base",
          "model_name": "LayoutModel",
          "model_module_version": "1.2.0",
          "state": {
            "_model_module": "@jupyter-widgets/base",
            "_model_module_version": "1.2.0",
            "_model_name": "LayoutModel",
            "_view_count": null,
            "_view_module": "@jupyter-widgets/base",
            "_view_module_version": "1.2.0",
            "_view_name": "LayoutView",
            "align_content": null,
            "align_items": null,
            "align_self": null,
            "border": null,
            "bottom": null,
            "display": null,
            "flex": null,
            "flex_flow": null,
            "grid_area": null,
            "grid_auto_columns": null,
            "grid_auto_flow": null,
            "grid_auto_rows": null,
            "grid_column": null,
            "grid_gap": null,
            "grid_row": null,
            "grid_template_areas": null,
            "grid_template_columns": null,
            "grid_template_rows": null,
            "height": null,
            "justify_content": null,
            "justify_items": null,
            "left": null,
            "margin": null,
            "max_height": null,
            "max_width": null,
            "min_height": null,
            "min_width": null,
            "object_fit": null,
            "object_position": null,
            "order": null,
            "overflow": null,
            "overflow_x": null,
            "overflow_y": null,
            "padding": null,
            "right": null,
            "top": null,
            "visibility": null,
            "width": null
          }
        },
        "a09d332ee77b43ffa8d00f136aaa0c54": {
          "model_module": "@jupyter-widgets/controls",
          "model_name": "ProgressStyleModel",
          "model_module_version": "1.5.0",
          "state": {
            "_model_module": "@jupyter-widgets/controls",
            "_model_module_version": "1.5.0",
            "_model_name": "ProgressStyleModel",
            "_view_count": null,
            "_view_module": "@jupyter-widgets/base",
            "_view_module_version": "1.2.0",
            "_view_name": "StyleView",
            "bar_color": null,
            "description_width": ""
          }
        },
        "3b6de98bac514d71afc2cf93278e9732": {
          "model_module": "@jupyter-widgets/base",
          "model_name": "LayoutModel",
          "model_module_version": "1.2.0",
          "state": {
            "_model_module": "@jupyter-widgets/base",
            "_model_module_version": "1.2.0",
            "_model_name": "LayoutModel",
            "_view_count": null,
            "_view_module": "@jupyter-widgets/base",
            "_view_module_version": "1.2.0",
            "_view_name": "LayoutView",
            "align_content": null,
            "align_items": null,
            "align_self": null,
            "border": null,
            "bottom": null,
            "display": null,
            "flex": null,
            "flex_flow": null,
            "grid_area": null,
            "grid_auto_columns": null,
            "grid_auto_flow": null,
            "grid_auto_rows": null,
            "grid_column": null,
            "grid_gap": null,
            "grid_row": null,
            "grid_template_areas": null,
            "grid_template_columns": null,
            "grid_template_rows": null,
            "height": null,
            "justify_content": null,
            "justify_items": null,
            "left": null,
            "margin": null,
            "max_height": null,
            "max_width": null,
            "min_height": null,
            "min_width": null,
            "object_fit": null,
            "object_position": null,
            "order": null,
            "overflow": null,
            "overflow_x": null,
            "overflow_y": null,
            "padding": null,
            "right": null,
            "top": null,
            "visibility": null,
            "width": null
          }
        },
        "b7791fdddab9446288c26d754e1d01ee": {
          "model_module": "@jupyter-widgets/controls",
          "model_name": "DescriptionStyleModel",
          "model_module_version": "1.5.0",
          "state": {
            "_model_module": "@jupyter-widgets/controls",
            "_model_module_version": "1.5.0",
            "_model_name": "DescriptionStyleModel",
            "_view_count": null,
            "_view_module": "@jupyter-widgets/base",
            "_view_module_version": "1.2.0",
            "_view_name": "StyleView",
            "description_width": ""
          }
        },
        "999a22ccab464ebd922ea28ae49b7c3c": {
          "model_module": "@jupyter-widgets/controls",
          "model_name": "HBoxModel",
          "model_module_version": "1.5.0",
          "state": {
            "_dom_classes": [],
            "_model_module": "@jupyter-widgets/controls",
            "_model_module_version": "1.5.0",
            "_model_name": "HBoxModel",
            "_view_count": null,
            "_view_module": "@jupyter-widgets/controls",
            "_view_module_version": "1.5.0",
            "_view_name": "HBoxView",
            "box_style": "",
            "children": [
              "IPY_MODEL_f43ace5792d34d9082398483f310d751",
              "IPY_MODEL_8a170238cbe34f95a5261d64500606c7",
              "IPY_MODEL_caaa198a47f14d7aa12fefeda266f196"
            ],
            "layout": "IPY_MODEL_9157781cb7da4eb7a76165f76a6562ce"
          }
        },
        "f43ace5792d34d9082398483f310d751": {
          "model_module": "@jupyter-widgets/controls",
          "model_name": "HTMLModel",
          "model_module_version": "1.5.0",
          "state": {
            "_dom_classes": [],
            "_model_module": "@jupyter-widgets/controls",
            "_model_module_version": "1.5.0",
            "_model_name": "HTMLModel",
            "_view_count": null,
            "_view_module": "@jupyter-widgets/controls",
            "_view_module_version": "1.5.0",
            "_view_name": "HTMLView",
            "description": "",
            "description_tooltip": null,
            "layout": "IPY_MODEL_9a71150f95014585ab891d34d3538446",
            "placeholder": "​",
            "style": "IPY_MODEL_b785787dda8046d9aa31e9bbd7d773b8",
            "value": "Downloading: 100%"
          }
        },
        "8a170238cbe34f95a5261d64500606c7": {
          "model_module": "@jupyter-widgets/controls",
          "model_name": "FloatProgressModel",
          "model_module_version": "1.5.0",
          "state": {
            "_dom_classes": [],
            "_model_module": "@jupyter-widgets/controls",
            "_model_module_version": "1.5.0",
            "_model_name": "FloatProgressModel",
            "_view_count": null,
            "_view_module": "@jupyter-widgets/controls",
            "_view_module_version": "1.5.0",
            "_view_name": "ProgressView",
            "bar_style": "success",
            "description": "",
            "description_tooltip": null,
            "layout": "IPY_MODEL_aefdeda553ea4fafbf9edfa600856cf8",
            "max": 548118077,
            "min": 0,
            "orientation": "horizontal",
            "style": "IPY_MODEL_2628a015ae1a495fbcbde5337c7ac738",
            "value": 548118077
          }
        },
        "caaa198a47f14d7aa12fefeda266f196": {
          "model_module": "@jupyter-widgets/controls",
          "model_name": "HTMLModel",
          "model_module_version": "1.5.0",
          "state": {
            "_dom_classes": [],
            "_model_module": "@jupyter-widgets/controls",
            "_model_module_version": "1.5.0",
            "_model_name": "HTMLModel",
            "_view_count": null,
            "_view_module": "@jupyter-widgets/controls",
            "_view_module_version": "1.5.0",
            "_view_name": "HTMLView",
            "description": "",
            "description_tooltip": null,
            "layout": "IPY_MODEL_dcd637efb36b49a2aee5793d8c12dcd4",
            "placeholder": "​",
            "style": "IPY_MODEL_957d271e5a9041dc9e3a8a521d438734",
            "value": " 523M/523M [00:12&lt;00:00, 25.8MB/s]"
          }
        },
        "9157781cb7da4eb7a76165f76a6562ce": {
          "model_module": "@jupyter-widgets/base",
          "model_name": "LayoutModel",
          "model_module_version": "1.2.0",
          "state": {
            "_model_module": "@jupyter-widgets/base",
            "_model_module_version": "1.2.0",
            "_model_name": "LayoutModel",
            "_view_count": null,
            "_view_module": "@jupyter-widgets/base",
            "_view_module_version": "1.2.0",
            "_view_name": "LayoutView",
            "align_content": null,
            "align_items": null,
            "align_self": null,
            "border": null,
            "bottom": null,
            "display": null,
            "flex": null,
            "flex_flow": null,
            "grid_area": null,
            "grid_auto_columns": null,
            "grid_auto_flow": null,
            "grid_auto_rows": null,
            "grid_column": null,
            "grid_gap": null,
            "grid_row": null,
            "grid_template_areas": null,
            "grid_template_columns": null,
            "grid_template_rows": null,
            "height": null,
            "justify_content": null,
            "justify_items": null,
            "left": null,
            "margin": null,
            "max_height": null,
            "max_width": null,
            "min_height": null,
            "min_width": null,
            "object_fit": null,
            "object_position": null,
            "order": null,
            "overflow": null,
            "overflow_x": null,
            "overflow_y": null,
            "padding": null,
            "right": null,
            "top": null,
            "visibility": null,
            "width": null
          }
        },
        "9a71150f95014585ab891d34d3538446": {
          "model_module": "@jupyter-widgets/base",
          "model_name": "LayoutModel",
          "model_module_version": "1.2.0",
          "state": {
            "_model_module": "@jupyter-widgets/base",
            "_model_module_version": "1.2.0",
            "_model_name": "LayoutModel",
            "_view_count": null,
            "_view_module": "@jupyter-widgets/base",
            "_view_module_version": "1.2.0",
            "_view_name": "LayoutView",
            "align_content": null,
            "align_items": null,
            "align_self": null,
            "border": null,
            "bottom": null,
            "display": null,
            "flex": null,
            "flex_flow": null,
            "grid_area": null,
            "grid_auto_columns": null,
            "grid_auto_flow": null,
            "grid_auto_rows": null,
            "grid_column": null,
            "grid_gap": null,
            "grid_row": null,
            "grid_template_areas": null,
            "grid_template_columns": null,
            "grid_template_rows": null,
            "height": null,
            "justify_content": null,
            "justify_items": null,
            "left": null,
            "margin": null,
            "max_height": null,
            "max_width": null,
            "min_height": null,
            "min_width": null,
            "object_fit": null,
            "object_position": null,
            "order": null,
            "overflow": null,
            "overflow_x": null,
            "overflow_y": null,
            "padding": null,
            "right": null,
            "top": null,
            "visibility": null,
            "width": null
          }
        },
        "b785787dda8046d9aa31e9bbd7d773b8": {
          "model_module": "@jupyter-widgets/controls",
          "model_name": "DescriptionStyleModel",
          "model_module_version": "1.5.0",
          "state": {
            "_model_module": "@jupyter-widgets/controls",
            "_model_module_version": "1.5.0",
            "_model_name": "DescriptionStyleModel",
            "_view_count": null,
            "_view_module": "@jupyter-widgets/base",
            "_view_module_version": "1.2.0",
            "_view_name": "StyleView",
            "description_width": ""
          }
        },
        "aefdeda553ea4fafbf9edfa600856cf8": {
          "model_module": "@jupyter-widgets/base",
          "model_name": "LayoutModel",
          "model_module_version": "1.2.0",
          "state": {
            "_model_module": "@jupyter-widgets/base",
            "_model_module_version": "1.2.0",
            "_model_name": "LayoutModel",
            "_view_count": null,
            "_view_module": "@jupyter-widgets/base",
            "_view_module_version": "1.2.0",
            "_view_name": "LayoutView",
            "align_content": null,
            "align_items": null,
            "align_self": null,
            "border": null,
            "bottom": null,
            "display": null,
            "flex": null,
            "flex_flow": null,
            "grid_area": null,
            "grid_auto_columns": null,
            "grid_auto_flow": null,
            "grid_auto_rows": null,
            "grid_column": null,
            "grid_gap": null,
            "grid_row": null,
            "grid_template_areas": null,
            "grid_template_columns": null,
            "grid_template_rows": null,
            "height": null,
            "justify_content": null,
            "justify_items": null,
            "left": null,
            "margin": null,
            "max_height": null,
            "max_width": null,
            "min_height": null,
            "min_width": null,
            "object_fit": null,
            "object_position": null,
            "order": null,
            "overflow": null,
            "overflow_x": null,
            "overflow_y": null,
            "padding": null,
            "right": null,
            "top": null,
            "visibility": null,
            "width": null
          }
        },
        "2628a015ae1a495fbcbde5337c7ac738": {
          "model_module": "@jupyter-widgets/controls",
          "model_name": "ProgressStyleModel",
          "model_module_version": "1.5.0",
          "state": {
            "_model_module": "@jupyter-widgets/controls",
            "_model_module_version": "1.5.0",
            "_model_name": "ProgressStyleModel",
            "_view_count": null,
            "_view_module": "@jupyter-widgets/base",
            "_view_module_version": "1.2.0",
            "_view_name": "StyleView",
            "bar_color": null,
            "description_width": ""
          }
        },
        "dcd637efb36b49a2aee5793d8c12dcd4": {
          "model_module": "@jupyter-widgets/base",
          "model_name": "LayoutModel",
          "model_module_version": "1.2.0",
          "state": {
            "_model_module": "@jupyter-widgets/base",
            "_model_module_version": "1.2.0",
            "_model_name": "LayoutModel",
            "_view_count": null,
            "_view_module": "@jupyter-widgets/base",
            "_view_module_version": "1.2.0",
            "_view_name": "LayoutView",
            "align_content": null,
            "align_items": null,
            "align_self": null,
            "border": null,
            "bottom": null,
            "display": null,
            "flex": null,
            "flex_flow": null,
            "grid_area": null,
            "grid_auto_columns": null,
            "grid_auto_flow": null,
            "grid_auto_rows": null,
            "grid_column": null,
            "grid_gap": null,
            "grid_row": null,
            "grid_template_areas": null,
            "grid_template_columns": null,
            "grid_template_rows": null,
            "height": null,
            "justify_content": null,
            "justify_items": null,
            "left": null,
            "margin": null,
            "max_height": null,
            "max_width": null,
            "min_height": null,
            "min_width": null,
            "object_fit": null,
            "object_position": null,
            "order": null,
            "overflow": null,
            "overflow_x": null,
            "overflow_y": null,
            "padding": null,
            "right": null,
            "top": null,
            "visibility": null,
            "width": null
          }
        },
        "957d271e5a9041dc9e3a8a521d438734": {
          "model_module": "@jupyter-widgets/controls",
          "model_name": "DescriptionStyleModel",
          "model_module_version": "1.5.0",
          "state": {
            "_model_module": "@jupyter-widgets/controls",
            "_model_module_version": "1.5.0",
            "_model_name": "DescriptionStyleModel",
            "_view_count": null,
            "_view_module": "@jupyter-widgets/base",
            "_view_module_version": "1.2.0",
            "_view_name": "StyleView",
            "description_width": ""
          }
        }
      }
    }
  },
  "nbformat": 4,
  "nbformat_minor": 0
}